{
 "cells": [
  {
   "cell_type": "markdown",
   "metadata": {},
   "source": [
    "****\n",
    "# High Performance Computation in Python: Cython vs. Multiprocessing\n",
    "****\n",
    "## About this notebook: \n",
    "Notebook prepared by **Jesus Perez Colino** Version 0.1, First Released: 01/12/2014, Alpha.  \n",
    "\n",
    "- This work is licensed under a [Creative Commons Attribution-ShareAlike 3.0 Unported License](http://creativecommons.org/licenses/by-sa/3.0/deed.en_US). This work is offered for free, with the hope that it will be useful.\n",
    "\n",
    "\n",
    "- **Summary**: This notebook contains not only a brief introduction to Cython, but also we compare the performance between Cython and Multiprocessing for the simplest possible Monte-Carlo Simulation.\n",
    "\n",
    "\n",
    "- **Python & packages versions** to reproduce the results of this notebook: "
   ]
  },
  {
   "cell_type": "code",
   "execution_count": 1,
   "metadata": {
    "collapsed": false
   },
   "outputs": [
    {
     "name": "stdout",
     "output_type": "stream",
     "text": [
      "---------------------- Reproducibility conditions for this notebook ----------------------\n",
      "Python version:     2.7.10 |Anaconda 2.3.0 (x86_64)| (default, Sep 15 2015, 14:29:08) \n",
      "[GCC 4.2.1 (Apple Inc. build 5577)]\n",
      "Numpy version:      1.9.2\n",
      "IPython version:    4.0.0\n",
      "Multiprocessing:    0.70a1\n",
      "------------------------------------------------------------------------------------------\n"
     ]
    }
   ],
   "source": [
    "%matplotlib inline\n",
    "import numpy as np\n",
    "import matplotlib.pyplot as plt\n",
    "import IPython\n",
    "from scipy.stats import norm\n",
    "from abc import ABCMeta, abstractmethod\n",
    "from sys import version \n",
    "import multiprocessing\n",
    "from numpy import ceil, mean\n",
    "import time\n",
    "import os\n",
    "print ' Reproducibility conditions for this notebook '.center(90,'-')\n",
    "print 'Python version:     ' + version\n",
    "print 'Numpy version:      ' + np.__version__\n",
    "print 'IPython version:    ' + IPython.__version__\n",
    "print 'Multiprocessing:    ' + multiprocessing.__version__\n",
    "print '-'*90"
   ]
  },
  {
   "cell_type": "markdown",
   "metadata": {},
   "source": [
    "## Introduction to Cython\n",
    "\n",
    "Cython is two closely related things:\n",
    "\n",
    "- Cython is a programming language that blends Python with the static type system of C and C++.\n",
    "- Cython is also a compiler that translates Cython source-code into C or C++ source-code. This source can then be compiled into a Python extension module or a standalone executable.\n",
    "\n",
    "Python is high-level, dynamic, simple and flexible programming language. These positives come with a cost, however—because Python is dynamic an interpreted, it can be several orders of magnitude slower than statically typed compiled languages.\n",
    "\n",
    "C, on the other hand, is one of the oldest statically typed compiled languages in wide‐ spread use, so compilers have had nearly half a century to optimize its performance. C is very low level and very powerful. Unlike Python, it does not have many safeguards in place and can be difficult to use.\n",
    "\n",
    "In the following Fibonacci example, we can see clearly the differences in time between `fibonacci_python` and `fibonacci_cython`:\n"
   ]
  },
  {
   "cell_type": "code",
   "execution_count": 2,
   "metadata": {
    "collapsed": false
   },
   "outputs": [],
   "source": [
    "def fibonacci_python(n):\n",
    "    a, b = 0, 1\n",
    "    while b < n:\n",
    "        #print b,\n",
    "        a, b = b, a + b"
   ]
  },
  {
   "cell_type": "code",
   "execution_count": 3,
   "metadata": {
    "collapsed": false
   },
   "outputs": [
    {
     "name": "stdout",
     "output_type": "stream",
     "text": [
      "100000 loops, best of 3: 2.26 µs per loop\n"
     ]
    }
   ],
   "source": [
    "%timeit fibonacci_python(100000000)"
   ]
  },
  {
   "cell_type": "code",
   "execution_count": 4,
   "metadata": {
    "collapsed": false
   },
   "outputs": [],
   "source": [
    "%load_ext cython"
   ]
  },
  {
   "cell_type": "code",
   "execution_count": 7,
   "metadata": {
    "collapsed": false
   },
   "outputs": [],
   "source": [
    "%%cython\n",
    "def fibonacci_cython(int n ):\n",
    "    cdef int a=0, b=1\n",
    "    while b < n:\n",
    "        #print b,\n",
    "        a, b = b, a + b"
   ]
  },
  {
   "cell_type": "code",
   "execution_count": 8,
   "metadata": {
    "collapsed": false
   },
   "outputs": [
    {
     "name": "stdout",
     "output_type": "stream",
     "text": [
      "The slowest run took 15.24 times longer than the fastest. This could mean that an intermediate result is being cached \n",
      "10000000 loops, best of 3: 78.2 ns per loop\n"
     ]
    }
   ],
   "source": [
    "%timeit fibonacci_cython(100000000)"
   ]
  },
  {
   "cell_type": "markdown",
   "metadata": {},
   "source": [
    "Python, as a dynamically typed language, place no restrictions on a variable’s type: the same variable can start out as an integer and end up as a string, or a list, or an instance of a custom Python object, for example. Dynamically typed languages are typically easier to write because the user does not have to explicitly declare variables’ types, with the tradeoff that type-related errors are caught at runtime.\n",
    "\n",
    "When running a Python program, the interpreter spends most of its time figuring out what low-level operation to perform, and extracting the data to give to this low-level operation. Given Python’s design and flexibility, the Python interpreter always has to determine the low-level operation in a completely general way, because a variable can have any type at any time. This is known as *dynamic dispatch*, and for many reasons, fully general dynamic dispatch is slow.\n",
    "\n",
    "The situation for C is very different. Because C is compiled and statically typed, the C compiler can determine at compile time what low-level operations to perform and what low-level data to pass as arguments. At runtime, a compiled C program skips nearly all steps that the Python interpreter must perform, and therefore, a compiled C program spends nearly all its time calling fast C functions and performing fundamental operations. Because of the restrictions a statically typed language places on its variables, a compiler generates faster, more specialized instructions that are tailored to its data."
   ]
  },
  {
   "cell_type": "markdown",
   "metadata": {},
   "source": [
    "## An Example of Cython vs. Multiprocessing Simulation"
   ]
  },
  {
   "cell_type": "code",
   "execution_count": 9,
   "metadata": {
    "collapsed": false
   },
   "outputs": [
    {
     "name": "stdout",
     "output_type": "stream",
     "text": [
      "10 loops, best of 3: 41.1 ms per loop\n"
     ]
    }
   ],
   "source": [
    "def step():\n",
    "    return np.sign(np.random.random(1)-.5)\n",
    "\n",
    "def sim1(n):\n",
    "    x = np.zeros(n)\n",
    "    dx = 1./n\n",
    "    for i in xrange(n-1):\n",
    "        x[i+1] = x[i] + dx * step()\n",
    "    return x\n",
    "\n",
    "n = 10000\n",
    "%timeit sim1(n)"
   ]
  },
  {
   "cell_type": "code",
   "execution_count": 10,
   "metadata": {
    "collapsed": true
   },
   "outputs": [],
   "source": [
    "%%cython\n",
    "import numpy as np\n",
    "cimport numpy as np\n",
    "DTYPE = np.double\n",
    "ctypedef np.double_t DTYPE_t\n",
    "from libc.stdlib cimport rand, RAND_MAX\n",
    "from libc.math cimport round\n",
    "cdef double step():\n",
    "    return 2 * round(float(rand()) / RAND_MAX) - 1\n",
    "def sim2(int n):\n",
    "    cdef int i\n",
    "    cdef double dx = 1. / n\n",
    "    cdef np.ndarray[DTYPE_t, ndim=1] x = np.zeros(n, dtype=DTYPE)\n",
    "    for i in range(n - 1):\n",
    "        x[i+1] = x[i] + dx * step()\n",
    "    return x"
   ]
  },
  {
   "cell_type": "code",
   "execution_count": 11,
   "metadata": {
    "collapsed": false
   },
   "outputs": [
    {
     "name": "stdout",
     "output_type": "stream",
     "text": [
      "10000 loops, best of 3: 99 µs per loop\n"
     ]
    }
   ],
   "source": [
    "%timeit sim2(n)"
   ]
  },
  {
   "cell_type": "code",
   "execution_count": 14,
   "metadata": {
    "collapsed": false
   },
   "outputs": [
    {
     "name": "stdout",
     "output_type": "stream",
     "text": [
      "-------------------------------------------------------------------------------------\n",
      "Number of processors: 1\n",
      "10 loops, best of 3: 43.2 ms per loop\n",
      "-------------------------------------------------------------------------------------\n",
      "Number of processors: 3\n",
      "100 loops, best of 3: 15 ms per loop\n",
      "-------------------------------------------------------------------------------------\n",
      "Number of processors: 2\n",
      "10 loops, best of 3: 21.8 ms per loop\n",
      "-------------------------------------------------------------------------------------\n",
      "Number of processors: 5\n",
      "100 loops, best of 3: 13.4 ms per loop\n",
      "-------------------------------------------------------------------------------------\n",
      "Number of processors: 4\n",
      "100 loops, best of 3: 11.7 ms per loop\n",
      "-------------------------------------------------------------------------------------\n",
      "Number of processors: 6\n",
      "100 loops, best of 3: 12.2 ms per loop\n",
      "-------------------------------------------------------------------------------------\n"
     ]
    }
   ],
   "source": [
    "scenarios = {'1': n, \n",
    "             '2': n, \n",
    "             '3': n,\n",
    "             '4': n,\n",
    "             '5': n,\n",
    "             '6': n}\n",
    "results = {}\n",
    "print '-' * 85\n",
    "for num_processes in scenarios:\n",
    "    N = scenarios[num_processes]\n",
    "    chunks = [int(ceil(N / int(num_processes)))] * int(num_processes)\n",
    "    chunks[-1] = int(chunks[-1] - sum(chunks) + N)\n",
    "    p = multiprocessing.Pool(int(num_processes))\n",
    "    print 'Number of processors:', num_processes \n",
    "    %timeit p.map(sim1, chunks)\n",
    "    p.close()\n",
    "    p.join()\n",
    "    print '-' * 85\n"
   ]
  },
  {
   "cell_type": "markdown",
   "metadata": {},
   "source": [
    "## And combining Multiprocessing and Cython... "
   ]
  },
  {
   "cell_type": "code",
   "execution_count": 16,
   "metadata": {
    "collapsed": false
   },
   "outputs": [
    {
     "name": "stdout",
     "output_type": "stream",
     "text": [
      "-------------------------------------------------------------------------------------\n",
      "Number of processors: 1\n",
      "The slowest run took 6.41 times longer than the fastest. This could mean that an intermediate result is being cached \n",
      "1000 loops, best of 3: 289 µs per loop\n",
      "-------------------------------------------------------------------------------------\n",
      "Number of processors: 3\n",
      "The slowest run took 7.66 times longer than the fastest. This could mean that an intermediate result is being cached \n",
      "1000 loops, best of 3: 231 µs per loop\n",
      "-------------------------------------------------------------------------------------\n",
      "Number of processors: 2\n",
      "The slowest run took 6.79 times longer than the fastest. This could mean that an intermediate result is being cached \n",
      "1000 loops, best of 3: 219 µs per loop\n",
      "-------------------------------------------------------------------------------------\n",
      "Number of processors: 5\n",
      "The slowest run took 7.14 times longer than the fastest. This could mean that an intermediate result is being cached \n",
      "1000 loops, best of 3: 291 µs per loop\n",
      "-------------------------------------------------------------------------------------\n",
      "Number of processors: 4\n",
      "The slowest run took 7.29 times longer than the fastest. This could mean that an intermediate result is being cached \n",
      "1000 loops, best of 3: 264 µs per loop\n",
      "-------------------------------------------------------------------------------------\n",
      "Number of processors: 6\n",
      "The slowest run took 7.00 times longer than the fastest. This could mean that an intermediate result is being cached \n",
      "1000 loops, best of 3: 326 µs per loop\n",
      "-------------------------------------------------------------------------------------\n"
     ]
    }
   ],
   "source": [
    "scenarios = {'1': n, \n",
    "             '2': n, \n",
    "             '3': n,\n",
    "             '4': n,\n",
    "             '5': n,\n",
    "             '6': n}\n",
    "results = {}\n",
    "print '-' * 85\n",
    "for num_processes in scenarios:\n",
    "    N = scenarios[num_processes]\n",
    "    chunks = [int(ceil(N / int(num_processes)))] * int(num_processes)\n",
    "    chunks[-1] = int(chunks[-1] - sum(chunks) + N)\n",
    "    p = multiprocessing.Pool(int(num_processes))\n",
    "    print 'Number of processors:', num_processes \n",
    "    %timeit p.map(sim2, chunks)\n",
    "    p.close()\n",
    "    p.join()\n",
    "    print '-' * 85"
   ]
  },
  {
   "cell_type": "code",
   "execution_count": null,
   "metadata": {
    "collapsed": true
   },
   "outputs": [],
   "source": []
  }
 ],
 "metadata": {
  "kernelspec": {
   "display_name": "Python 2",
   "language": "python",
   "name": "python2"
  },
  "language_info": {
   "codemirror_mode": {
    "name": "ipython",
    "version": 2
   },
   "file_extension": ".py",
   "mimetype": "text/x-python",
   "name": "python",
   "nbconvert_exporter": "python",
   "pygments_lexer": "ipython2",
   "version": "2.7.10"
  }
 },
 "nbformat": 4,
 "nbformat_minor": 0
}
