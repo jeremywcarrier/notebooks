{
 "cells": [
  {
   "cell_type": "markdown",
   "metadata": {},
   "source": [
    "#A Jump-Diffusion Simulation Class for Option Pricing in Python\n",
    "****\n",
    "## About this notebook: \n",
    "Notebook prepared by **Jesus Perez Colino** Version 0.1, First Released: 21/03/2011, Alpha\n",
    "\n",
    "- This work is licensed under a [Creative Commons Attribution-ShareAlike 3.0 Unported License](http://creativecommons.org/licenses/by-sa/3.0/deed.en_US). This work is offered for free, with the hope that it will be useful.\n",
    "\n",
    "\n",
    "- **Summary**: This notebook is just the simplest class implementation of a **Jump-Diffussion simulation** according with the **Merton (1976)** model. We start with an abstract class for the European option as an abstract base class, and from there, we derived a subclass for the Jump-Difussion (TODO: will be extended soon to FFT and PDEs). You can compare the prices without jumps using the MonteCarlo class below. \n",
    "\n",
    "\n",
    "- **Reference**: [Merton, Robert (1976) Option Pricing when the Underlying Stock Returns are Discontinuous, Journal of Financial Economics, 3(3), 125–144](http://www.people.hbs.edu/rmerton/optionpricingwhenunderlingstock.pdf)\n",
    "\n",
    "\n",
    "- **Python & packages versions** to reproduce the results of this notebook: "
   ]
  },
  {
   "cell_type": "code",
   "execution_count": 10,
   "metadata": {
    "collapsed": false
   },
   "outputs": [
    {
     "name": "stdout",
     "output_type": "stream",
     "text": [
      "-------------------- Reproducibility conditions for this notebook -------------------\n",
      "Python version:     2.7.10 |Anaconda 2.3.0 (x86_64)| (default, May 28 2015, 17:04:42) \n",
      "[GCC 4.2.1 (Apple Inc. build 5577)]\n",
      "Numpy version:      1.9.2\n",
      "IPython version:    3.2.1\n",
      "-------------------------------------------------------------------------------------\n"
     ]
    }
   ],
   "source": [
    "import numpy as np\n",
    "import IPython\n",
    "from scipy.stats import norm\n",
    "from abc import ABCMeta, abstractmethod\n",
    "from sys import version \n",
    "print ' Reproducibility conditions for this notebook '.center(85,'-')\n",
    "print 'Python version:     ' + version\n",
    "print 'Numpy version:      ' + np.__version__\n",
    "print 'IPython version:    ' + IPython.__version__\n",
    "print '-'*85"
   ]
  },
  {
   "cell_type": "code",
   "execution_count": 11,
   "metadata": {
    "collapsed": false
   },
   "outputs": [],
   "source": [
    "class EuropeanOption(object):\n",
    "    \"\"\" Abstract Class for European options. Partially implemented.\n",
    "    s0 : float : initial stock/index level\n",
    "    strike : float : strike price\n",
    "    maturity : float : time to maturity (in year fractions)\n",
    "    int_rates : float : constant risk-free short rate\n",
    "    dividend_rates :    float : dividend yield\n",
    "    sigma :  float : volatility factor in diffusion term\"\"\"\n",
    "\n",
    "    __metaclass__ = ABCMeta\n",
    "\n",
    "    def __init__(self, option_type, s0, strike, maturity, \n",
    "                 int_rates, dividend_rates, sigma, model):\n",
    "        try:\n",
    "            self.option_type = option_type\n",
    "            assert isinstance(option_type, str)\n",
    "            self.s0 = float(s0)\n",
    "            self.strike = float(strike)\n",
    "            self.maturity = float(maturity)\n",
    "            self.int_rates = float(int_rates)\n",
    "            self.dividend_rates = float(dividend_rates)\n",
    "            self.sigma = float(sigma)\n",
    "            self.model = str(model)\n",
    "        except ValueError:\n",
    "            print('Error passing Options parameters')\n",
    "\n",
    "        models = ['BlackScholes', 'MonteCarlo', \n",
    "                  'BinomialTree', 'JumpDiffusion']\n",
    "        if model not in models:\n",
    "            raise Exception('Error: Model unknown')\n",
    "        option_types = ['call', 'put']\n",
    "        if option_type not in option_types:\n",
    "            raise ValueError(\"Error: Option type not valid. Enter 'call' or 'put'\")\n",
    "        if (s0 < 0 or strike < 0 or maturity <= 0 or int_rates < 0 \n",
    "            or dividend_rates < 0 or sigma < 0):\n",
    "            raise ValueError('Error: Negative inputs not allowed')\n",
    "\n",
    "    @property\n",
    "    def getmodel(self):\n",
    "        return self.model\n",
    "\n",
    "    def __str__(self):\n",
    "        return \"This EuropeanOption is priced using {0}\".format(self.getmodel)\n",
    "\n",
    "    @abstractmethod\n",
    "    def value(self):\n",
    "        pass"
   ]
  },
  {
   "cell_type": "code",
   "execution_count": 12,
   "metadata": {
    "collapsed": false
   },
   "outputs": [],
   "source": [
    "class JumpDiffusion(EuropeanOption):\n",
    "\n",
    "    def __init__(self, option_type, s0, strike, maturity, \n",
    "                 int_rates, dividend_rates, sigma, \n",
    "                 jump_lambda, jump_size, jump_std, \n",
    "                 time_intervals, simulations = 10000):\n",
    "        EuropeanOption.__init__(self,option_type, s0, strike,\n",
    "                                maturity, int_rates, dividend_rates, \n",
    "                                sigma, 'JumpDiffusion')\n",
    "        try:\n",
    "            self.jump_lambda = float(jump_lambda)\n",
    "            assert jump_lambda > 0\n",
    "            self.jump_size = float(jump_size)\n",
    "            self.jump_std = float(jump_std)\n",
    "            assert jump_std > 0\n",
    "            self.time_intervals = int(time_intervals)\n",
    "            assert time_intervals > 0\n",
    "            self.simulations = int(simulations)\n",
    "            assert simulations > 0\n",
    "        except ValueError:\n",
    "            print('Error passing the Jump parameters')\n",
    "\n",
    "\n",
    "    def generate_simulation(self, seed = 1234567890):\n",
    "        dt = self.maturity / float(self.time_intervals)\n",
    "        jump_drift = self.jump_lambda * (np.exp(self.jump_size \n",
    "                                                + 0.5 * self.jump_std ** 2) - 1)\n",
    "        shape = (self.time_intervals + 1, self.simulations)\n",
    "        prices = np.zeros((self.time_intervals + 1, \n",
    "                           self.simulations), dtype=np.float)\n",
    "        prices[0] = self.s0\n",
    "        np.random.seed(seed)\n",
    "        gauss_price = np.random.standard_normal(shape)\n",
    "        gauss_jump = np.random.standard_normal(shape)\n",
    "        poisson_jump = np.random.poisson(self.jump_lambda * dt, shape)\n",
    "        for t in xrange(1, self.time_intervals + 1):\n",
    "                prices[t] = prices[t - 1] * (np.exp((self.int_rates - \n",
    "                                                     jump_drift - 0.5 * self.sigma ** 2) * dt +\n",
    "                                                    self.sigma * np.sqrt(dt) * gauss_price[t]) +\n",
    "                                             (np.exp(self.jump_size + self.jump_std \n",
    "                                                     * gauss_jump[t]) - 1) * poisson_jump[t])\n",
    "        return prices\n",
    "\n",
    "    @property\n",
    "    def value(self):\n",
    "        prices_simulation = self.generate_simulation()\n",
    "        discount = np.exp(-self.int_rates * self.maturity)\n",
    "        if self.option_type == 'call':\n",
    "            return (discount * np.sum(np.maximum(prices_simulation[-1] - self.strike, 0)) / \n",
    "                    float(self.simulations))\n",
    "        else:\n",
    "            return (discount * np.sum(np.maximum(self.strike - prices_simulation[-1], 0)) / \n",
    "                    float(self.simulations))\n"
   ]
  },
  {
   "cell_type": "code",
   "execution_count": 13,
   "metadata": {
    "collapsed": false
   },
   "outputs": [],
   "source": [
    "mycall = JumpDiffusion('call', 100, 100, 1, 0, 0, 0.2, 1., -.2, 0.2, 100)"
   ]
  },
  {
   "cell_type": "code",
   "execution_count": 14,
   "metadata": {
    "collapsed": false
   },
   "outputs": [
    {
     "name": "stdout",
     "output_type": "stream",
     "text": [
      "This EuropeanOption is priced using JumpDiffusion\n",
      "12.4927218691\n"
     ]
    }
   ],
   "source": [
    "print mycall\n",
    "print mycall.value"
   ]
  },
  {
   "cell_type": "code",
   "execution_count": 15,
   "metadata": {
    "collapsed": true
   },
   "outputs": [],
   "source": [
    "class MonteCarlo(EuropeanOption):\n",
    "\n",
    "    def __init__(self, option_type, s0, strike, maturity, int_rates, dividend_rates, sigma, simulations = 100000):\n",
    "        EuropeanOption.__init__(self, option_type, s0, strike, maturity, int_rates, dividend_rates, sigma, \"MonteCarlo\")\n",
    "        self.simulations = int(simulations)\n",
    "        try:\n",
    "            if self.simulations > 0 :\n",
    "                assert isinstance(self.simulations, int)\n",
    "        except:\n",
    "            raise ValueError(\"Simulation's number has to be positive integer\")\n",
    "\n",
    "    def generate_payoffs(self , seed = 1234567890):\n",
    "        np.random.seed(seed)\n",
    "        brownian = np.random.normal(size = self.simulations)\n",
    "        price_terminal = self.s0 * np.exp((self.int_rates - self.dividend_rates - 0.5 * self.sigma ** 2) * \n",
    "                                          self.maturity +\n",
    "                                          self.sigma * np.sqrt(self.maturity) * brownian)\n",
    "        if self.option_type == 'call':\n",
    "            payoff = np.maximum((price_terminal - self.strike), np.zeros(self.simulations))\n",
    "        else:\n",
    "            payoff = np.maximum((self.strike - price_terminal), np.zeros(self.simulations))\n",
    "        return payoff\n",
    "\n",
    "    @property\n",
    "    def value(self):\n",
    "        payoff = self.generate_payoffs()\n",
    "        return np.exp(-1.0 * self.int_rates * self.maturity) * np.sum(payoff) / float(self.simulations)"
   ]
  },
  {
   "cell_type": "code",
   "execution_count": 16,
   "metadata": {
    "collapsed": false
   },
   "outputs": [],
   "source": [
    "mycall = MonteCarlo('call', 100, 100, 1, 0, 0, 0.2)"
   ]
  },
  {
   "cell_type": "code",
   "execution_count": 17,
   "metadata": {
    "collapsed": false
   },
   "outputs": [
    {
     "name": "stdout",
     "output_type": "stream",
     "text": [
      "This EuropeanOption is priced using MonteCarlo\n",
      "7.97975042702\n"
     ]
    }
   ],
   "source": [
    "print mycall\n",
    "print mycall.value"
   ]
  },
  {
   "cell_type": "code",
   "execution_count": null,
   "metadata": {
    "collapsed": true
   },
   "outputs": [],
   "source": []
  }
 ],
 "metadata": {
  "kernelspec": {
   "display_name": "Python 2",
   "language": "python",
   "name": "python2"
  },
  "language_info": {
   "codemirror_mode": {
    "name": "ipython",
    "version": 2
   },
   "file_extension": ".py",
   "mimetype": "text/x-python",
   "name": "python",
   "nbconvert_exporter": "python",
   "pygments_lexer": "ipython2",
   "version": "2.7.10"
  }
 },
 "nbformat": 4,
 "nbformat_minor": 0
}
