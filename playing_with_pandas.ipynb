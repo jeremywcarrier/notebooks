{
 "metadata": {
  "name": "playing_with_pandas"
 }, 
 "nbformat": 2, 
 "worksheets": [
  {
   "cells": [
    {
     "cell_type": "code", 
     "collapsed": true, 
     "input": [
      "import pandas as pd"
     ], 
     "language": "python", 
     "outputs": [], 
     "prompt_number": 7
    }, 
    {
     "cell_type": "code", 
     "collapsed": false, 
     "input": [
      "2+2"
     ], 
     "language": "python", 
     "outputs": [
      {
       "output_type": "pyout", 
       "prompt_number": 1, 
       "text": [
        "4"
       ]
      }
     ], 
     "prompt_number": 1
    }, 
    {
     "cell_type": "code", 
     "collapsed": false, 
     "input": [
      "np.Serie?"
     ], 
     "language": "python", 
     "outputs": [
      {
       "output_type": "stream", 
       "stream": "stdout", 
       "text": [
        "Object `np.Serie` not found."
       ]
      }
     ], 
     "prompt_number": 3
    }, 
    {
     "cell_type": "code", 
     "collapsed": false, 
     "input": [
      "Series?"
     ], 
     "language": "python", 
     "outputs": [
      {
       "output_type": "stream", 
       "stream": "stdout", 
       "text": [
        "Object `Series` not found."
       ]
      }
     ], 
     "prompt_number": 5
    }, 
    {
     "cell_type": "code", 
     "collapsed": true, 
     "input": [
      "from pandas import Series, DataFrame"
     ], 
     "language": "python", 
     "outputs": [], 
     "prompt_number": 9
    }, 
    {
     "cell_type": "code", 
     "collapsed": false, 
     "input": [
      "data = Series(np.random.randn(10),index=[['a','a','a','b','b','b','c','c','d','d'],[1,2,3,1,2,3,1,2,2,3]])"
     ], 
     "language": "python", 
     "outputs": [], 
     "prompt_number": 11
    }, 
    {
     "cell_type": "code", 
     "collapsed": false, 
     "input": [
      "data"
     ], 
     "language": "python", 
     "outputs": [
      {
       "output_type": "pyout", 
       "prompt_number": 12, 
       "text": [
        "a  1   -0.092249", 
        "   2   -0.872634", 
        "   3   -0.352642", 
        "b  1    0.169762", 
        "   2   -0.220656", 
        "   3    0.745653", 
        "c  1   -1.213362", 
        "   2   -1.245862", 
        "d  2    0.300581", 
        "   3   -0.918258"
       ]
      }
     ], 
     "prompt_number": 12
    }, 
    {
     "cell_type": "code", 
     "collapsed": false, 
     "input": [
      "data.index"
     ], 
     "language": "python", 
     "outputs": [
      {
       "output_type": "pyout", 
       "prompt_number": 14, 
       "text": [
        "MultiIndex", 
        "[(a, 1), (a, 2), (a, 3), (b, 1), (b, 2), (b, 3), (c, 1), (c, 2), (d, 2), (d, 3)]"
       ]
      }
     ], 
     "prompt_number": 14
    }, 
    {
     "cell_type": "code", 
     "collapsed": false, 
     "input": [
      "data['b':'c']"
     ], 
     "language": "python", 
     "outputs": [
      {
       "output_type": "pyout", 
       "prompt_number": 16, 
       "text": [
        "b  1    0.169762", 
        "   2   -0.220656", 
        "   3    0.745653", 
        "c  1   -1.213362", 
        "   2   -1.245862"
       ]
      }
     ], 
     "prompt_number": 16
    }, 
    {
     "cell_type": "code", 
     "collapsed": false, 
     "input": [
      "whos"
     ], 
     "language": "python", 
     "outputs": [
      {
       "output_type": "stream", 
       "stream": "stdout", 
       "text": [
        "Variable    Type      Data/Info", 
        "-------------------------------", 
        "DataFrame   type      <class 'pandas.core.frame.DataFrame'>", 
        "Series      type      <class 'pandas.core.series.Series'>", 
        "data        Series    a  1   -0.092249\\n   2   <...>.300581\\n   3   -0.918258", 
        "pd          module    <module 'pandas' from 'C:<...>ges\\pandas\\__init__.pyc'>"
       ]
      }
     ], 
     "prompt_number": 17
    }, 
    {
     "cell_type": "code", 
     "collapsed": true, 
     "input": [
      "import pandas.io.data as web"
     ], 
     "language": "python", 
     "outputs": [], 
     "prompt_number": 18
    }, 
    {
     "cell_type": "code", 
     "collapsed": false, 
     "input": [
      "whos"
     ], 
     "language": "python", 
     "outputs": [
      {
       "output_type": "stream", 
       "stream": "stdout", 
       "text": [
        "Variable    Type      Data/Info", 
        "-------------------------------", 
        "DataFrame   type      <class 'pandas.core.frame.DataFrame'>", 
        "Series      type      <class 'pandas.core.series.Series'>", 
        "data        Series    a  1   -0.092249\\n   2   <...>.300581\\n   3   -0.918258", 
        "pd          module    <module 'pandas' from 'C:<...>ges\\pandas\\__init__.pyc'>", 
        "web         module    <module 'pandas.io.data' <...>ages\\pandas\\io\\data.pyc'>"
       ]
      }
     ], 
     "prompt_number": 19
    }, 
    {
     "cell_type": "code", 
     "collapsed": true, 
     "input": [
      "pdata = pd.Panel(dict((stk,web.get_data_yahoo(stk,'1/1/2012','12/30/2012'))for stk in ['AAPL','GOOG','MSFT','DELL']))"
     ], 
     "language": "python", 
     "outputs": [], 
     "prompt_number": 20
    }, 
    {
     "cell_type": "code", 
     "collapsed": false, 
     "input": [
      "whos"
     ], 
     "language": "python", 
     "outputs": [
      {
       "output_type": "stream", 
       "stream": "stdout", 
       "text": [
        "Variable    Type      Data/Info", 
        "-------------------------------", 
        "DataFrame   type      <class 'pandas.core.frame.DataFrame'>", 
        "Series      type      <class 'pandas.core.series.Series'>", 
        "data        Series    a  1   -0.092249\\n   2   <...>.300581\\n   3   -0.918258", 
        "pd          module    <module 'pandas' from 'C:<...>ges\\pandas\\__init__.pyc'>", 
        "pdata       Panel     <class 'pandas.core.panel<...>s axis: Open to Adj Close", 
        "web         module    <module 'pandas.io.data' <...>ages\\pandas\\io\\data.pyc'>"
       ]
      }
     ], 
     "prompt_number": 21
    }, 
    {
     "cell_type": "code", 
     "collapsed": false, 
     "input": [
      "pdata=pdata.swapaxes('items','minor')"
     ], 
     "language": "python", 
     "outputs": [], 
     "prompt_number": 26
    }, 
    {
     "cell_type": "code", 
     "collapsed": false, 
     "input": [
      "pdata['Adj Close']"
     ], 
     "language": "python", 
     "outputs": [
      {
       "output_type": "pyout", 
       "prompt_number": 30, 
       "text": [
        "<class 'pandas.core.frame.DataFrame'>", 
        "DatetimeIndex: 249 entries, 2012-01-03 00:00:00 to 2012-12-28 00:00:00", 
        "Data columns:", 
        "AAPL    249  non-null values", 
        "DELL    249  non-null values", 
        "GOOG    249  non-null values", 
        "MSFT    249  non-null values", 
        "dtypes: float64(4)"
       ]
      }
     ], 
     "prompt_number": 30
    }, 
    {
     "cell_type": "code", 
     "collapsed": false, 
     "input": [
      "pdata.ix[:,'10/25/2012',:]"
     ], 
     "language": "python", 
     "outputs": [
      {
       "html": [
        "<div style=\"max-height:1000px;max-width:1500px;overflow:auto;\">", 
        "<table border=\"1\" class=\"dataframe\">", 
        "  <thead>", 
        "    <tr style=\"text-align: right;\">", 
        "      <th></th>", 
        "      <th>Open</th>", 
        "      <th>High</th>", 
        "      <th>Low</th>", 
        "      <th>Close</th>", 
        "      <th>Volume</th>", 
        "      <th>Adj Close</th>", 
        "    </tr>", 
        "  </thead>", 
        "  <tbody>", 
        "    <tr>", 
        "      <th>AAPL</th>", 
        "      <td> 620.00</td>", 
        "      <td> 622.00</td>", 
        "      <td> 605.55</td>", 
        "      <td> 609.54</td>", 
        "      <td> 23440200</td>", 
        "      <td> 603.25</td>", 
        "    </tr>", 
        "    <tr>", 
        "      <th>DELL</th>", 
        "      <td>   9.31</td>", 
        "      <td>   9.34</td>", 
        "      <td>   9.22</td>", 
        "      <td>   9.24</td>", 
        "      <td> 21325500</td>", 
        "      <td>   9.12</td>", 
        "    </tr>", 
        "    <tr>", 
        "      <th>GOOG</th>", 
        "      <td> 680.00</td>", 
        "      <td> 682.00</td>", 
        "      <td> 673.51</td>", 
        "      <td> 677.76</td>", 
        "      <td>  2401100</td>", 
        "      <td> 677.76</td>", 
        "    </tr>", 
        "    <tr>", 
        "      <th>MSFT</th>", 
        "      <td>  28.19</td>", 
        "      <td>  28.20</td>", 
        "      <td>  27.86</td>", 
        "      <td>  27.88</td>", 
        "      <td> 54084300</td>", 
        "      <td>  27.43</td>", 
        "    </tr>", 
        "  </tbody>", 
        "</table>", 
        "</div>"
       ], 
       "output_type": "pyout", 
       "prompt_number": 33, 
       "text": [
        "        Open    High     Low   Close    Volume  Adj Close", 
        "AAPL  620.00  622.00  605.55  609.54  23440200     603.25", 
        "DELL    9.31    9.34    9.22    9.24  21325500       9.12", 
        "GOOG  680.00  682.00  673.51  677.76   2401100     677.76", 
        "MSFT   28.19   28.20   27.86   27.88  54084300      27.43"
       ]
      }
     ], 
     "prompt_number": 33
    }, 
    {
     "cell_type": "code", 
     "collapsed": false, 
     "input": [
      "whos"
     ], 
     "language": "python", 
     "outputs": [
      {
       "output_type": "stream", 
       "stream": "stdout", 
       "text": [
        "Variable    Type      Data/Info", 
        "-------------------------------", 
        "DataFrame   type      <class 'pandas.core.frame.DataFrame'>", 
        "Series      type      <class 'pandas.core.series.Series'>", 
        "data        Series    a  1   -0.092249\\n   2   <...>.300581\\n   3   -0.918258", 
        "pd          module    <module 'pandas' from 'C:<...>ges\\pandas\\__init__.pyc'>", 
        "pdata       Panel     <class 'pandas.core.panel<...>r_axis axis: AAPL to MSFT", 
        "web         module    <module 'pandas.io.data' <...>ages\\pandas\\io\\data.pyc'>"
       ]
      }
     ], 
     "prompt_number": 34
    }, 
    {
     "cell_type": "code", 
     "collapsed": true, 
     "input": [
      "all_data = {}", 
      "for ticker in ['AAPL','GOOG','MSFT','DELL','IBM']:", 
      "    all_data[ticker]=web.get_data_yahoo(ticker, '1/1/2012','12/30/2012')", 
      "    price = DataFrame({tic:data['Adj Close']", 
      "                       for tic, data in all_data.iteritems()})", 
      "    volume= DataFrame({tic:data['Volume']", 
      "                       for tic, data in all_data.iteritems()})"
     ], 
     "language": "python", 
     "outputs": [], 
     "prompt_number": 40
    }, 
    {
     "cell_type": "code", 
     "collapsed": false, 
     "input": [
      "whos"
     ], 
     "language": "python", 
     "outputs": [
      {
       "output_type": "stream", 
       "stream": "stdout", 
       "text": [
        "Variable    Type         Data/Info", 
        "----------------------------------", 
        "DataFrame   type         <class 'pandas.core.frame.DataFrame'>", 
        "Series      type         <class 'pandas.core.series.Series'>", 
        "all_data    dict         n=4", 
        "data        Series       a  1   -0.092249\\n   2   <...>.300581\\n   3   -0.918258", 
        "pd          module       <module 'pandas' from 'C:<...>ges\\pandas\\__init__.pyc'>", 
        "pdata       Panel        <class 'pandas.core.panel<...>r_axis axis: AAPL to MSFT", 
        "price       DataFrame    <class 'pandas.core.frame<...>alues\\ndtypes: float64(4)", 
        "ticker      str          DELL", 
        "volume      DataFrame    <class 'pandas.core.frame<...> values\\ndtypes: int64(4)", 
        "web         module       <module 'pandas.io.data' <...>ages\\pandas\\io\\data.pyc'>"
       ]
      }
     ], 
     "prompt_number": 36
    }, 
    {
     "cell_type": "code", 
     "collapsed": true, 
     "input": [
      "returns = price.pct_change()"
     ], 
     "language": "python", 
     "outputs": [], 
     "prompt_number": 41
    }, 
    {
     "cell_type": "code", 
     "collapsed": false, 
     "input": [
      "returns.tail()"
     ], 
     "language": "python", 
     "outputs": [
      {
       "html": [
        "<div style=\"max-height:1000px;max-width:1500px;overflow:auto;\">", 
        "<table border=\"1\" class=\"dataframe\">", 
        "  <thead>", 
        "    <tr style=\"text-align: right;\">", 
        "      <th></th>", 
        "      <th>AAPL</th>", 
        "      <th>DELL</th>", 
        "      <th>GOOG</th>", 
        "      <th>IBM</th>", 
        "      <th>MSFT</th>", 
        "    </tr>", 
        "    <tr>", 
        "      <th>Date</th>", 
        "      <th></th>", 
        "      <th></th>", 
        "      <th></th>", 
        "      <th></th>", 
        "      <th></th>", 
        "    </tr>", 
        "  </thead>", 
        "  <tbody>", 
        "    <tr>", 
        "      <th>2012-12-21</th>", 
        "      <td>-0.004608</td>", 
        "      <td>-0.006757</td>", 
        "      <td>-0.009317</td>", 
        "      <td>-0.006909</td>", 
        "      <td>-0.008379</td>", 
        "    </tr>", 
        "    <tr>", 
        "      <th>2012-12-24</th>", 
        "      <td> 0.001627</td>", 
        "      <td>-0.018465</td>", 
        "      <td>-0.008566</td>", 
        "      <td>-0.005296</td>", 
        "      <td>-0.013960</td>", 
        "    </tr>", 
        "    <tr>", 
        "      <th>2012-12-26</th>", 
        "      <td>-0.013787</td>", 
        "      <td> 0.003960</td>", 
        "      <td>-0.000888</td>", 
        "      <td>-0.002297</td>", 
        "      <td>-0.007452</td>", 
        "    </tr>", 
        "    <tr>", 
        "      <th>2012-12-27</th>", 
        "      <td> 0.004019</td>", 
        "      <td>-0.008876</td>", 
        "      <td>-0.003640</td>", 
        "      <td> 0.003924</td>", 
        "      <td> 0.003754</td>", 
        "    </tr>", 
        "    <tr>", 
        "      <th>2012-12-28</th>", 
        "      <td>-0.010623</td>", 
        "      <td>-0.013930</td>", 
        "      <td>-0.008892</td>", 
        "      <td>-0.014956</td>", 
        "      <td>-0.015333</td>", 
        "    </tr>", 
        "  </tbody>", 
        "</table>", 
        "</div>"
       ], 
       "output_type": "pyout", 
       "prompt_number": 42, 
       "text": [
        "                AAPL      DELL      GOOG       IBM      MSFT", 
        "Date                                                        ", 
        "2012-12-21 -0.004608 -0.006757 -0.009317 -0.006909 -0.008379", 
        "2012-12-24  0.001627 -0.018465 -0.008566 -0.005296 -0.013960", 
        "2012-12-26 -0.013787  0.003960 -0.000888 -0.002297 -0.007452", 
        "2012-12-27  0.004019 -0.008876 -0.003640  0.003924  0.003754", 
        "2012-12-28 -0.010623 -0.013930 -0.008892 -0.014956 -0.015333"
       ]
      }
     ], 
     "prompt_number": 42
    }, 
    {
     "cell_type": "code", 
     "collapsed": false, 
     "input": [
      "returns.corr()"
     ], 
     "language": "python", 
     "outputs": [
      {
       "html": [
        "<div style=\"max-height:1000px;max-width:1500px;overflow:auto;\">", 
        "<table border=\"1\" class=\"dataframe\">", 
        "  <thead>", 
        "    <tr style=\"text-align: right;\">", 
        "      <th></th>", 
        "      <th>AAPL</th>", 
        "      <th>DELL</th>", 
        "      <th>GOOG</th>", 
        "      <th>IBM</th>", 
        "      <th>MSFT</th>", 
        "    </tr>", 
        "  </thead>", 
        "  <tbody>", 
        "    <tr>", 
        "      <th>AAPL</th>", 
        "      <td> 1.000000</td>", 
        "      <td> 0.208706</td>", 
        "      <td> 0.380936</td>", 
        "      <td> 0.335160</td>", 
        "      <td> 0.274678</td>", 
        "    </tr>", 
        "    <tr>", 
        "      <th>DELL</th>", 
        "      <td> 0.208706</td>", 
        "      <td> 1.000000</td>", 
        "      <td> 0.064202</td>", 
        "      <td> 0.322815</td>", 
        "      <td> 0.392768</td>", 
        "    </tr>", 
        "    <tr>", 
        "      <th>GOOG</th>", 
        "      <td> 0.380936</td>", 
        "      <td> 0.064202</td>", 
        "      <td> 1.000000</td>", 
        "      <td> 0.267234</td>", 
        "      <td> 0.189943</td>", 
        "    </tr>", 
        "    <tr>", 
        "      <th>IBM</th>", 
        "      <td> 0.335160</td>", 
        "      <td> 0.322815</td>", 
        "      <td> 0.267234</td>", 
        "      <td> 1.000000</td>", 
        "      <td> 0.571116</td>", 
        "    </tr>", 
        "    <tr>", 
        "      <th>MSFT</th>", 
        "      <td> 0.274678</td>", 
        "      <td> 0.392768</td>", 
        "      <td> 0.189943</td>", 
        "      <td> 0.571116</td>", 
        "      <td> 1.000000</td>", 
        "    </tr>", 
        "  </tbody>", 
        "</table>", 
        "</div>"
       ], 
       "output_type": "pyout", 
       "prompt_number": 43, 
       "text": [
        "          AAPL      DELL      GOOG       IBM      MSFT", 
        "AAPL  1.000000  0.208706  0.380936  0.335160  0.274678", 
        "DELL  0.208706  1.000000  0.064202  0.322815  0.392768", 
        "GOOG  0.380936  0.064202  1.000000  0.267234  0.189943", 
        "IBM   0.335160  0.322815  0.267234  1.000000  0.571116", 
        "MSFT  0.274678  0.392768  0.189943  0.571116  1.000000"
       ]
      }
     ], 
     "prompt_number": 43
    }, 
    {
     "cell_type": "code", 
     "collapsed": false, 
     "input": [
      "print range(4)"
     ], 
     "language": "python", 
     "outputs": [
      {
       "output_type": "stream", 
       "stream": "stdout", 
       "text": [
        "[0, 1, 2, 3]"
       ]
      }
     ], 
     "prompt_number": 44
    }, 
    {
     "cell_type": "code", 
     "collapsed": true, 
     "input": [
      "df2 = DataFrame({'key':['a','b','d'],'da{'key':['a','b','d'],'data2':range(3)})ta2':range(3)})"
     ], 
     "language": "python", 
     "outputs": [], 
     "prompt_number": 45
    }, 
    {
     "cell_type": "code", 
     "collapsed": false, 
     "input": [
      "df2"
     ], 
     "language": "python", 
     "outputs": [
      {
       "html": [
        "<div style=\"max-height:1000px;max-width:1500px;overflow:auto;\">", 
        "<table border=\"1\" class=\"dataframe\">", 
        "  <thead>", 
        "    <tr style=\"text-align: right;\">", 
        "      <th></th>", 
        "      <th>data2</th>", 
        "      <th>key</th>", 
        "    </tr>", 
        "  </thead>", 
        "  <tbody>", 
        "    <tr>", 
        "      <th>0</th>", 
        "      <td> 0</td>", 
        "      <td> a</td>", 
        "    </tr>", 
        "    <tr>", 
        "      <th>1</th>", 
        "      <td> 1</td>", 
        "      <td> b</td>", 
        "    </tr>", 
        "    <tr>", 
        "      <th>2</th>", 
        "      <td> 2</td>", 
        "      <td> d</td>", 
        "    </tr>", 
        "  </tbody>", 
        "</table>", 
        "</div>"
       ], 
       "output_type": "pyout", 
       "prompt_number": 46, 
       "text": [
        "   data2 key", 
        "0      0   a", 
        "1      1   b", 
        "2      2   d"
       ]
      }
     ], 
     "prompt_number": 46
    }, 
    {
     "cell_type": "code", 
     "collapsed": false, 
     "input": [
      "df1 = DataFrame({'key':['b','b','a','c','a','a','b'],'data1':range(7)})"
     ], 
     "language": "python", 
     "outputs": [], 
     "prompt_number": 48
    }, 
    {
     "cell_type": "code", 
     "collapsed": false, 
     "input": [
      "df1"
     ], 
     "language": "python", 
     "outputs": [
      {
       "html": [
        "<div style=\"max-height:1000px;max-width:1500px;overflow:auto;\">", 
        "<table border=\"1\" class=\"dataframe\">", 
        "  <thead>", 
        "    <tr style=\"text-align: right;\">", 
        "      <th></th>", 
        "      <th>data1</th>", 
        "      <th>key</th>", 
        "    </tr>", 
        "  </thead>", 
        "  <tbody>", 
        "    <tr>", 
        "      <th>0</th>", 
        "      <td> 0</td>", 
        "      <td> b</td>", 
        "    </tr>", 
        "    <tr>", 
        "      <th>1</th>", 
        "      <td> 1</td>", 
        "      <td> b</td>", 
        "    </tr>", 
        "    <tr>", 
        "      <th>2</th>", 
        "      <td> 2</td>", 
        "      <td> a</td>", 
        "    </tr>", 
        "    <tr>", 
        "      <th>3</th>", 
        "      <td> 3</td>", 
        "      <td> c</td>", 
        "    </tr>", 
        "    <tr>", 
        "      <th>4</th>", 
        "      <td> 4</td>", 
        "      <td> a</td>", 
        "    </tr>", 
        "    <tr>", 
        "      <th>5</th>", 
        "      <td> 5</td>", 
        "      <td> a</td>", 
        "    </tr>", 
        "    <tr>", 
        "      <th>6</th>", 
        "      <td> 6</td>", 
        "      <td> b</td>", 
        "    </tr>", 
        "  </tbody>", 
        "</table>", 
        "</div>"
       ], 
       "output_type": "pyout", 
       "prompt_number": 49, 
       "text": [
        "   data1 key", 
        "0      0   b", 
        "1      1   b", 
        "2      2   a", 
        "3      3   c", 
        "4      4   a", 
        "5      5   a", 
        "6      6   b"
       ]
      }
     ], 
     "prompt_number": 49
    }, 
    {
     "cell_type": "code", 
     "collapsed": false, 
     "input": [
      "pd.merge(df1,df2,on='key')"
     ], 
     "language": "python", 
     "outputs": [
      {
       "html": [
        "<div style=\"max-height:1000px;max-width:1500px;overflow:auto;\">", 
        "<table border=\"1\" class=\"dataframe\">", 
        "  <thead>", 
        "    <tr style=\"text-align: right;\">", 
        "      <th></th>", 
        "      <th>data1</th>", 
        "      <th>key</th>", 
        "      <th>data2</th>", 
        "    </tr>", 
        "  </thead>", 
        "  <tbody>", 
        "    <tr>", 
        "      <th>0</th>", 
        "      <td> 0</td>", 
        "      <td> b</td>", 
        "      <td> 1</td>", 
        "    </tr>", 
        "    <tr>", 
        "      <th>1</th>", 
        "      <td> 1</td>", 
        "      <td> b</td>", 
        "      <td> 1</td>", 
        "    </tr>", 
        "    <tr>", 
        "      <th>2</th>", 
        "      <td> 6</td>", 
        "      <td> b</td>", 
        "      <td> 1</td>", 
        "    </tr>", 
        "    <tr>", 
        "      <th>3</th>", 
        "      <td> 2</td>", 
        "      <td> a</td>", 
        "      <td> 0</td>", 
        "    </tr>", 
        "    <tr>", 
        "      <th>4</th>", 
        "      <td> 4</td>", 
        "      <td> a</td>", 
        "      <td> 0</td>", 
        "    </tr>", 
        "    <tr>", 
        "      <th>5</th>", 
        "      <td> 5</td>", 
        "      <td> a</td>", 
        "      <td> 0</td>", 
        "    </tr>", 
        "  </tbody>", 
        "</table>", 
        "</div>"
       ], 
       "output_type": "pyout", 
       "prompt_number": 51, 
       "text": [
        "   data1 key  data2", 
        "0      0   b      1", 
        "1      1   b      1", 
        "2      6   b      1", 
        "3      2   a      0", 
        "4      4   a      0", 
        "5      5   a      0"
       ]
      }
     ], 
     "prompt_number": 51
    }, 
    {
     "cell_type": "code", 
     "collapsed": false, 
     "input": [
      "pd.concat([df1.duplicated(),df2.duplicated()])"
     ], 
     "language": "python", 
     "outputs": [
      {
       "output_type": "pyout", 
       "prompt_number": 56, 
       "text": [
        "0    False", 
        "1    False", 
        "2    False", 
        "3    False", 
        "4    False", 
        "5    False", 
        "6    False", 
        "0    False", 
        "1    False", 
        "2    False"
       ]
      }
     ], 
     "prompt_number": 56
    }, 
    {
     "cell_type": "code", 
     "collapsed": false, 
     "input": [
      "df2.duplicated()"
     ], 
     "language": "python", 
     "outputs": [
      {
       "output_type": "pyout", 
       "prompt_number": 55, 
       "text": [
        "0    False", 
        "1    False", 
        "2    False"
       ]
      }
     ], 
     "prompt_number": 55
    }, 
    {
     "cell_type": "code", 
     "collapsed": true, 
     "input": [
      "np.random.seed(12345)"
     ], 
     "language": "python", 
     "outputs": [], 
     "prompt_number": 61
    }, 
    {
     "cell_type": "code", 
     "collapsed": false, 
     "input": [
      "data2 = DataFrame(np.random.randn(1000,4))"
     ], 
     "language": "python", 
     "outputs": [], 
     "prompt_number": 62
    }, 
    {
     "cell_type": "code", 
     "collapsed": false, 
     "input": [
      "data2.describe()"
     ], 
     "language": "python", 
     "outputs": [
      {
       "html": [
        "<div style=\"max-height:1000px;max-width:1500px;overflow:auto;\">", 
        "<table border=\"1\" class=\"dataframe\">", 
        "  <thead>", 
        "    <tr style=\"text-align: right;\">", 
        "      <th></th>", 
        "      <th>0</th>", 
        "      <th>1</th>", 
        "      <th>2</th>", 
        "      <th>3</th>", 
        "    </tr>", 
        "  </thead>", 
        "  <tbody>", 
        "    <tr>", 
        "      <th>count</th>", 
        "      <td> 1000.000000</td>", 
        "      <td> 1000.000000</td>", 
        "      <td> 1000.000000</td>", 
        "      <td> 1000.000000</td>", 
        "    </tr>", 
        "    <tr>", 
        "      <th>mean</th>", 
        "      <td>   -0.067684</td>", 
        "      <td>    0.067924</td>", 
        "      <td>    0.025598</td>", 
        "      <td>   -0.002298</td>", 
        "    </tr>", 
        "    <tr>", 
        "      <th>std</th>", 
        "      <td>    0.998035</td>", 
        "      <td>    0.992106</td>", 
        "      <td>    1.006835</td>", 
        "      <td>    0.996794</td>", 
        "    </tr>", 
        "    <tr>", 
        "      <th>min</th>", 
        "      <td>   -3.428254</td>", 
        "      <td>   -3.548824</td>", 
        "      <td>   -3.184377</td>", 
        "      <td>   -3.745356</td>", 
        "    </tr>", 
        "    <tr>", 
        "      <th>25%</th>", 
        "      <td>   -0.774890</td>", 
        "      <td>   -0.591841</td>", 
        "      <td>   -0.641675</td>", 
        "      <td>   -0.644144</td>", 
        "    </tr>", 
        "    <tr>", 
        "      <th>50%</th>", 
        "      <td>   -0.116401</td>", 
        "      <td>    0.101143</td>", 
        "      <td>    0.002073</td>", 
        "      <td>   -0.013611</td>", 
        "    </tr>", 
        "    <tr>", 
        "      <th>75%</th>", 
        "      <td>    0.616366</td>", 
        "      <td>    0.780282</td>", 
        "      <td>    0.680391</td>", 
        "      <td>    0.654328</td>", 
        "    </tr>", 
        "    <tr>", 
        "      <th>max</th>", 
        "      <td>    3.366626</td>", 
        "      <td>    2.653656</td>", 
        "      <td>    3.260383</td>", 
        "      <td>    3.927528</td>", 
        "    </tr>", 
        "  </tbody>", 
        "</table>", 
        "</div>"
       ], 
       "output_type": "pyout", 
       "prompt_number": 63, 
       "text": [
        "                 0            1            2            3", 
        "count  1000.000000  1000.000000  1000.000000  1000.000000", 
        "mean     -0.067684     0.067924     0.025598    -0.002298", 
        "std       0.998035     0.992106     1.006835     0.996794", 
        "min      -3.428254    -3.548824    -3.184377    -3.745356", 
        "25%      -0.774890    -0.591841    -0.641675    -0.644144", 
        "50%      -0.116401     0.101143     0.002073    -0.013611", 
        "75%       0.616366     0.780282     0.680391     0.654328", 
        "max       3.366626     2.653656     3.260383     3.927528"
       ]
      }
     ], 
     "prompt_number": 63
    }, 
    {
     "cell_type": "code", 
     "collapsed": false, 
     "input": [
      "whos"
     ], 
     "language": "python", 
     "outputs": [
      {
       "output_type": "stream", 
       "stream": "stdout", 
       "text": [
        "Variable    Type         Data/Info", 
        "----------------------------------", 
        "DataFrame   type         <class 'pandas.core.frame.DataFrame'>", 
        "Series      type         <class 'pandas.core.series.Series'>", 
        "all_data    dict         n=5", 
        "data        Series       a  1   -0.092249\\n   2   <...>.300581\\n   3   -0.918258", 
        "data2       DataFrame    <class 'pandas.core.frame<...>alues\\ndtypes: float64(4)", 
        "df1         DataFrame       data1 key\\n0      0   <...>      5   a\\n6      6   b", 
        "df2         DataFrame    "
       ]
      }, 
      {
       "output_type": "stream", 
       "stream": "stdout", 
       "text": [
        "   data2 key\\n0      0   <...>      1   b\\n2      2   d", 
        "pd          module       <module 'pandas' from 'C:<...>ges\\pandas\\__init__.pyc'>", 
        "pdata       Panel        "
       ]
      }, 
      {
       "output_type": "stream", 
       "stream": "stdout", 
       "text": [
        "<class 'pandas.core.panel<...>r_axis axis: AAPL to MSFT", 
        "price       DataFrame    "
       ]
      }, 
      {
       "output_type": "stream", 
       "stream": "stdout", 
       "text": [
        "<class 'pandas.core.frame<...>alues\\ndtypes: float64(5)", 
        "returns     DataFrame    <class 'pandas.core.frame<...>alues\\ndtypes: float64(5)", 
        "ticker      str          IBM", 
        "volume      DataFrame    <class 'pandas.core.frame<...> values\\ndtypes: int64(5)", 
        "web         module       <module 'pandas.io.data' <...>ages\\pandas\\io\\data.pyc'>"
       ]
      }
     ], 
     "prompt_number": 64
    }, 
    {
     "cell_type": "code", 
     "collapsed": false, 
     "input": [
      "plot(np.arange(10))"
     ], 
     "language": "python", 
     "outputs": [
      {
       "output_type": "pyout", 
       "prompt_number": 66, 
       "text": [
        "[<matplotlib.lines.Line2D at 0x4909870>]"
       ]
      }, 
      {
       "output_type": "display_data", 
       "png": "[encoded data removed]"
      }
     ], 
     "prompt_number": 66
    }, 
    {
     "cell_type": "code", 
     "collapsed": false, 
     "input": [
      "fig = plt.figure()"
     ], 
     "language": "python", 
     "outputs": [], 
     "prompt_number": 68
    }, 
    {
     "cell_type": "code", 
     "collapsed": true, 
     "input": [
      "ax = fig.add_subplot(1,1,1)"
     ], 
     "language": "python", 
     "outputs": [], 
     "prompt_number": 69
    }, 
    {
     "cell_type": "code", 
     "collapsed": false, 
     "input": [
      "plot(randn(1000).cumsum())"
     ], 
     "language": "python", 
     "outputs": [
      {
       "output_type": "pyout", 
       "prompt_number": 75, 
       "text": [
        "[<matplotlib.lines.Line2D at 0x4b3afb0>]"
       ]
      }, 
      {
       "output_type": "display_data", 
       "png": "[encoded data removed]"
      }
     ], 
     "prompt_number": 75
    }, 
    {
     "cell_type": "code", 
     "collapsed": false, 
     "input": [
      "whos"
     ], 
     "language": "python", 
     "outputs": [
      {
       "output_type": "stream", 
       "stream": "stdout", 
       "text": [
        "Variable    Type           Data/Info", 
        "------------------------------------", 
        "DataFrame   type           <class 'pandas.core.frame.DataFrame'>", 
        "Series      type           <class 'pandas.core.series.Series'>", 
        "all_data    dict           n=5", 
        "ax          AxesSubplot    "
       ]
      }, 
      {
       "output_type": "stream", 
       "stream": "stdout", 
       "text": [
        "Axes(0.125,0.125;0.775x0.775)", 
        "data        Series         "
       ]
      }, 
      {
       "output_type": "stream", 
       "stream": "stdout", 
       "text": [
        "a  1   -0.092249\\n   2   <...>.300581\\n   3   -0.918258", 
        "data2       DataFrame      "
       ]
      }, 
      {
       "output_type": "stream", 
       "stream": "stdout", 
       "text": [
        "<class 'pandas.core.frame<...>alues\\ndtypes: float64(4)", 
        "df1         DataFrame      "
       ]
      }, 
      {
       "output_type": "stream", 
       "stream": "stdout", 
       "text": [
        "   data1 key\\n0      0   <...>      5   a\\n6      6   b", 
        "df2         DataFrame         data2 key\\n0      0   <...>      1   b\\n2      2   d", 
        "fig         Figure         "
       ]
      }, 
      {
       "output_type": "stream", 
       "stream": "stdout", 
       "text": [
        "Figure(480x320)", 
        "pd          module         <module 'pandas' from 'C:<...>ges\\pandas\\__init__.pyc'>", 
        "pdata       Panel          "
       ]
      }, 
      {
       "output_type": "stream", 
       "stream": "stdout", 
       "text": [
        "<class 'pandas.core.panel<...>r_axis axis: AAPL to MSFT", 
        "price       DataFrame      "
       ]
      }, 
      {
       "output_type": "stream", 
       "stream": "stdout", 
       "text": [
        "<class 'pandas.core.frame<...>alues\\ndtypes: float64(5)", 
        "returns     DataFrame      <class 'pandas.core.frame<...>alues\\ndtypes: float64(5)", 
        "ticker      str            IBM", 
        "volume      DataFrame      "
       ]
      }, 
      {
       "output_type": "stream", 
       "stream": "stdout", 
       "text": [
        "<class 'pandas.core.frame<...> values\\ndtypes: int64(5)", 
        "web         module         <module 'pandas.io.data' <...>ages\\pandas\\io\\data.pyc'>"
       ]
      }
     ], 
     "prompt_number": 78
    }, 
    {
     "cell_type": "code", 
     "collapsed": false, 
     "input": [
      "rng = pd.date_range('1/1/2000',periods=100,freq='D')"
     ], 
     "language": "python", 
     "outputs": [], 
     "prompt_number": 79
    }, 
    {
     "cell_type": "code", 
     "collapsed": false, 
     "input": [
      "rng"
     ], 
     "language": "python", 
     "outputs": [
      {
       "output_type": "pyout", 
       "prompt_number": 80, 
       "text": [
        "<class 'pandas.tseries.index.DatetimeIndex'>", 
        "[2000-01-01 00:00:00, ..., 2000-04-09 00:00:00]", 
        "Length: 100, Freq: D, Timezone: None"
       ]
      }
     ], 
     "prompt_number": 80
    }, 
    {
     "cell_type": "code", 
     "collapsed": true, 
     "input": [
      "ts = Series(randn(len(rng)), index=rng)"
     ], 
     "language": "python", 
     "outputs": [], 
     "prompt_number": 81
    }, 
    {
     "cell_type": "code", 
     "collapsed": false, 
     "input": [
      "ts.describe()"
     ], 
     "language": "python", 
     "outputs": [
      {
       "output_type": "pyout", 
       "prompt_number": 85, 
       "text": [
        "count    100.000000", 
        "mean      -0.126396", 
        "std        0.986838", 
        "min       -2.939965", 
        "25%       -0.850419", 
        "50%       -0.008369", 
        "75%        0.610584", 
        "max        1.521939"
       ]
      }
     ], 
     "prompt_number": 85
    }, 
    {
     "cell_type": "code", 
     "collapsed": false, 
     "input": [
      "ts.plot()"
     ], 
     "language": "python", 
     "outputs": [
      {
       "output_type": "pyout", 
       "prompt_number": 90, 
       "text": [
        "<matplotlib.axes.AxesSubplot at 0x49d1170>"
       ]
      }, 
      {
       "output_type": "display_data", 
       "png": "[encoded data removed]"
      }
     ], 
     "prompt_number": 90
    }, 
    {
     "cell_type": "code", 
     "collapsed": false, 
     "input": [
      "ts2 = ts.resample('M',how='mean')"
     ], 
     "language": "python", 
     "outputs": [], 
     "prompt_number": 88
    }, 
    {
     "cell_type": "code", 
     "collapsed": false, 
     "input": [
      "ts2.describe();ts2.plot()"
     ], 
     "language": "python", 
     "outputs": [
      {
       "output_type": "pyout", 
       "prompt_number": 91, 
       "text": [
        "<matplotlib.axes.AxesSubplot at 0x56bd270>"
       ]
      }, 
      {
       "output_type": "display_data", 
       "png": "[encoded data removed]"
      }
     ], 
     "prompt_number": 91
    }, 
    {
     "cell_type": "code", 
     "collapsed": true, 
     "input": [
      "a = arange(9).reshape(3,3)"
     ], 
     "language": "python", 
     "outputs": [], 
     "prompt_number": 92
    }, 
    {
     "cell_type": "code", 
     "collapsed": false, 
     "input": [
      "a"
     ], 
     "language": "python", 
     "outputs": [
      {
       "output_type": "pyout", 
       "prompt_number": 93, 
       "text": [
        "array([[0, 1, 2],", 
        "       [3, 4, 5],", 
        "       [6, 7, 8]])"
       ]
      }
     ], 
     "prompt_number": 93
    }, 
    {
     "cell_type": "code", 
     "collapsed": false, 
     "input": [
      "eig(a)"
     ], 
     "language": "python", 
     "outputs": [
      {
       "output_type": "pyout", 
       "prompt_number": 105, 
       "text": [
        "(array([  1.33484692e+01,  -1.34846923e+00,  -6.22650894e-16]),", 
        " array([[ 0.16476382,  0.79969966,  0.40824829],", 
        "       [ 0.50577448,  0.10420579, -0.81649658],", 
        "       [ 0.84678513, -0.59128809,  0.40824829]]))"
       ]
      }
     ], 
     "prompt_number": 105
    }, 
    {
     "cell_type": "code", 
     "collapsed": false, 
     "input": [
      "transpose(a)"
     ], 
     "language": "python", 
     "outputs": [
      {
       "output_type": "pyout", 
       "prompt_number": 107, 
       "text": [
        "array([[0, 3, 6],", 
        "       [1, 4, 7],", 
        "       [2, 5, 8]])"
       ]
      }
     ], 
     "prompt_number": 107
    }, 
    {
     "cell_type": "code", 
     "collapsed": false, 
     "input": [
      "a.transpose()"
     ], 
     "language": "python", 
     "outputs": [
      {
       "output_type": "pyout", 
       "prompt_number": 108, 
       "text": [
        "array([[0, 3, 6],", 
        "       [1, 4, 7],", 
        "       [2, 5, 8]])"
       ]
      }
     ], 
     "prompt_number": 108
    }, 
    {
     "cell_type": "code", 
     "collapsed": false, 
     "input": [], 
     "language": "python", 
     "outputs": [
      {
       "ename": "AttributeError", 
       "evalue": "'numpy.ndarray' object has no attribute 'eig'", 
       "output_type": "pyerr", 
       "traceback": [
        "\u001b[1;31m---------------------------------------------------------------------------\u001b[0m\n\u001b[1;31mAttributeError\u001b[0m                            Traceback (most recent call last)", 
        "\u001b[1;32mC:\\Users\\Suso\\<ipython-input-109-428510d12418>\u001b[0m in \u001b[0;36m<module>\u001b[1;34m()\u001b[0m\n\u001b[1;32m----> 1\u001b[1;33m \u001b[0ma\u001b[0m\u001b[1;33m.\u001b[0m\u001b[0meig\u001b[0m\u001b[1;33m(\u001b[0m\u001b[1;33m)\u001b[0m\u001b[1;33m\u001b[0m\u001b[0m\n\u001b[0m", 
        "\u001b[1;31mAttributeError\u001b[0m: 'numpy.ndarray' object has no attribute 'eig'"
       ]
      }
     ], 
     "prompt_number": 109
    }, 
    {
     "cell_type": "code", 
     "collapsed": true, 
     "input": [
      "import pandas.io.data as web"
     ], 
     "language": "python", 
     "outputs": [], 
     "prompt_number": 110
    }, 
    {
     "cell_type": "code", 
     "collapsed": false, 
     "input": [
      "whos"
     ], 
     "language": "python", 
     "outputs": [
      {
       "output_type": "stream", 
       "stream": "stdout", 
       "text": [
        "Variable    Type             Data/Info", 
        "--------------------------------------", 
        "DataFrame   type             <class 'pandas.core.frame.DataFrame'>", 
        "Series      type             <class 'pandas.core.series.Series'>", 
        "a           ndarray          3x3: 9 elems, type `int32`, 36 bytes", 
        "all_data    dict             n=5", 
        "ax          AxesSubplot      Axes(0.125,0.125;0.775x0.775)", 
        "data        Series           a  1   -0.092249\\n   2   <...>.300581\\n   3   -0.918258", 
        "data2       DataFrame        "
       ]
      }, 
      {
       "output_type": "stream", 
       "stream": "stdout", 
       "text": [
        "<class 'pandas.core.frame<...>alues\\ndtypes: float64(4)", 
        "df1         DataFrame           data1 key\\n0      0   <...>      5   a\\n6      6   b", 
        "df2         DataFrame           data2 key\\n0      0   <...>      1   b\\n2      2   d", 
        "fig         Figure           Figure(480x320)", 
        "pd          module           <module 'pandas' from 'C:<...>ges\\pandas\\__init__.pyc'>", 
        "pdata       Panel            <class 'pandas.core.panel<...>r_axis axis: AAPL to MSFT", 
        "price       DataFrame        "
       ]
      }, 
      {
       "output_type": "stream", 
       "stream": "stdout", 
       "text": [
        "<class 'pandas.core.frame<...>alues\\ndtypes: float64(5)", 
        "returns     DataFrame        <class 'pandas.core.frame<...>alues\\ndtypes: float64(5)", 
        "rng         DatetimeIndex    <class 'pandas.tseries.in<...>, Freq: D, Timezone: None", 
        "ticker      str              IBM", 
        "ts          TimeSeries       2000-01-01   -1.166530\\n2<...>199\\nFreq: D, Length: 100", 
        "ts2         TimeSeries       2000-01-31    0.000120\\n2<...>4-30    0.347948\\nFreq: M", 
        "volume      DataFrame        <class 'pandas.core.frame<...> values\\ndtypes: int64(5)", 
        "web         module           <module 'pandas.io.data' <...>ages\\pandas\\io\\data.pyc'>"
       ]
      }
     ], 
     "prompt_number": 111
    }, 
    {
     "cell_type": "code", 
     "collapsed": true, 
     "input": [
      "price2 = web.get_data_yahoo('AAPL','2011-01-01')['Adj Close']"
     ], 
     "language": "python", 
     "outputs": [], 
     "prompt_number": 112
    }, 
    {
     "cell_type": "code", 
     "collapsed": false, 
     "input": [
      "price2[-5:]"
     ], 
     "language": "python", 
     "outputs": [
      {
       "output_type": "pyout", 
       "prompt_number": 113, 
       "text": [
        "Date", 
        "2013-03-22    461.91", 
        "2013-03-25    463.58", 
        "2013-03-26    461.14", 
        "2013-03-27    452.08", 
        "2013-03-28    442.66", 
        "Name: Adj Close"
       ]
      }
     ], 
     "prompt_number": 113
    }, 
    {
     "cell_type": "code", 
     "collapsed": false, 
     "input": [
      "price2.plot()"
     ], 
     "language": "python", 
     "outputs": [
      {
       "output_type": "pyout", 
       "prompt_number": 114, 
       "text": [
        "<matplotlib.axes.AxesSubplot at 0x49c0310>"
       ]
      }, 
      {
       "output_type": "display_data", 
       "png": "[encoded data removed]"
      }
     ], 
     "prompt_number": 114
    }, 
    {
     "cell_type": "code", 
     "collapsed": true, 
     "input": [
      "returns2 = price2.pct_change()"
     ], 
     "language": "python", 
     "outputs": [], 
     "prompt_number": 115
    }, 
    {
     "cell_type": "code", 
     "collapsed": true, 
     "input": [
      "ret2_index = (1+returns2).cumprod() "
     ], 
     "language": "python", 
     "outputs": [], 
     "prompt_number": 116
    }, 
    {
     "cell_type": "code", 
     "collapsed": false, 
     "input": [
      "ret2_index.plot()"
     ], 
     "language": "python", 
     "outputs": [
      {
       "output_type": "pyout", 
       "prompt_number": 118, 
       "text": [
        "<matplotlib.axes.AxesSubplot at 0x5767730>"
       ]
      }, 
      {
       "output_type": "display_data", 
       "png": "[encoded data removed]"
      }
     ], 
     "prompt_number": 118
    }, 
    {
     "cell_type": "code", 
     "collapsed": false, 
     "input": [
      "whos"
     ], 
     "language": "python", 
     "outputs": [
      {
       "output_type": "stream", 
       "stream": "stdout", 
       "text": [
        "Variable     Type             Data/Info", 
        "---------------------------------------", 
        "DataFrame    type             <class 'pandas.core.frame.DataFrame'>", 
        "Series       type             <class 'pandas.core.series.Series'>", 
        "a            ndarray          3x3: 9 elems, type `int32`, 36 bytes", 
        "all_data     dict             n=5", 
        "ax           AxesSubplot      Axes(0.125,0.125;0.775x0.775)", 
        "data         Series           a  1   -0.092249\\n   2   <...>.300581\\n   3   -0.918258", 
        "data2        DataFrame        <class 'pandas.core.frame<...>alues\\ndtypes: float64(4)", 
        "df1          DataFrame           data1 key\\n0      0   <...>      5   a\\n6      6   b", 
        "df2          DataFrame           data2 key\\n0      0   <...>      1   b\\n2      2   d", 
        "fig          Figure           Figure(480x320)", 
        "pd           module           <module 'pandas' from 'C:<...>ges\\pandas\\__init__.pyc'>", 
        "pdata        Panel            <class 'pandas.core.panel<...>r_axis axis: AAPL to MSFT", 
        "price        DataFrame        <class 'pandas.core.frame<...>alues\\ndtypes: float64(5)", 
        "price2       TimeSeries       Date\\n2011-01-03    324.7<...>e: Adj Close, Length: 562", 
        "ret2_index   TimeSeries       Date\\n2011-01-03         <...>    1.362953\\nLength: 562", 
        "returns      DataFrame        <class 'pandas.core.frame<...>alues\\ndtypes: float64(5)", 
        "returns2     TimeSeries       Date\\n2011-01-03         <...>e: Adj Close, Length: 562", 
        "rng          DatetimeIndex    <class 'pandas.tseries.in<...>, Freq: D, Timezone: None", 
        "ticker       str              IBM", 
        "ts           TimeSeries       2000-01-01   -1.166530\\n2<...>199\\nFreq: D, Length: 100", 
        "ts2          TimeSeries       2000-01-31    0.000120\\n2<...>4-30    0.347948\\nFreq: M", 
        "volume       DataFrame        "
       ]
      }, 
      {
       "output_type": "stream", 
       "stream": "stdout", 
       "text": [
        "<class 'pandas.core.frame<...> values\\ndtypes: int64(5)", 
        "web          module           <module 'pandas.io.data' <...>ages\\pandas\\io\\data.pyc'>"
       ]
      }
     ], 
     "prompt_number": 119
    }, 
    {
     "cell_type": "code", 
     "collapsed": false, 
     "input": [
      "ret2_index[0]=1"
     ], 
     "language": "python", 
     "outputs": [], 
     "prompt_number": 122
    }, 
    {
     "cell_type": "code", 
     "collapsed": false, 
     "input": [
      "ret2_index"
     ], 
     "language": "python", 
     "outputs": [
      {
       "output_type": "pyout", 
       "prompt_number": 123, 
       "text": [
        "Date", 
        "2011-01-03    1.000000", 
        "2011-01-04    1.005204", 
        "2011-01-05    1.013424", 
        "2011-01-06    1.012624", 
        "2011-01-07    1.019860", 
        "2011-01-10    1.039073", 
        "2011-01-11    1.036609", 
        "2011-01-12    1.045046", 
        "2011-01-13    1.048864", 
        "2011-01-14    1.057362", 
        "2011-01-18    1.033623", 
        "2011-01-19    1.028111", 
        "2011-01-20    1.009422", 
        "2011-01-21    0.991348", 
        "2011-01-24    1.023893", 
        "...", 
        "2013-03-08    1.329269", 
        "2013-03-11    1.348205", 
        "2013-03-12    1.319139", 
        "2013-03-13    1.318893", 
        "2013-03-14    1.331671", 
        "2013-03-15    1.366032", 
        "2013-03-18    1.403165", 
        "2013-03-19    1.399378", 
        "2013-03-20    1.391958", 
        "2013-03-21    1.393959", 
        "2013-03-22    1.422224", 
        "2013-03-25    1.427366", 
        "2013-03-26    1.419853", 
        "2013-03-27    1.391958", 
        "2013-03-28    1.362953", 
        "Length: 562"
       ]
      }
     ], 
     "prompt_number": 123
    }, 
    {
     "cell_type": "code", 
     "collapsed": true, 
     "input": [
      "ma60 = pd.rolling_mean(ret2_index, 60, min_periods = 50)", 
      "ma30 = pd.rolling_mean(ret2_index, 30, min_periods = 10)", 
      "ma10 = pd.rolling_mean(ret2_index, 10, min_periods = 5)"
     ], 
     "language": "python", 
     "outputs": [], 
     "prompt_number": 140
    }, 
    {
     "cell_type": "code", 
     "collapsed": false, 
     "input": [
      "ewma60 = pd.ewma(ret2_index, span=60)", 
      "ewma30 = pd.ewma(ret2_index, span=10)", 
      "ewma10 = pd.ewma(ret2_index, span=5)"
     ], 
     "language": "python", 
     "outputs": [], 
     "prompt_number": 141
    }, 
    {
     "cell_type": "code", 
     "collapsed": false, 
     "input": [
      "fig, axes = plt.subplots(nrows = 2, ncols = 1, sharex = True, sharey = True, figsize = (12,7))", 
      "ret2_index.plot(style='k-',ax=axes[0])", 
      "ma60.plot(style='r--',ax=axes[0])", 
      "ma30.plot(style='b--',ax=axes[0])", 
      "ma10.plot(style='k--',ax=axes[0])", 
      "ret2_index.plot(style='k-',ax=axes[1])", 
      "ewma60.plot(style='r--',ax=axes[1])", 
      "ewma30.plot(style='b--',ax=axes[1])", 
      "ewma10.plot(style='k--',ax=axes[1])", 
      "axes[0].set_title('Simple MA and Exponentially-weighted MA')", 
      "axes[1].set_title('Exponentially-weighted MA')"
     ], 
     "language": "python", 
     "outputs": [
      {
       "output_type": "pyout", 
       "prompt_number": 143, 
       "text": [
        "<matplotlib.text.Text at 0x71b62d0>"
       ]
      }, 
      {
       "output_type": "display_data", 
       "png": "[encoded data removed]"
      }
     ], 
     "prompt_number": 143
    }, 
    {
     "cell_type": "code", 
     "collapsed": false, 
     "input": [
      "ret2_index.plot(style='k-')"
     ], 
     "language": "python", 
     "outputs": [
      {
       "output_type": "pyout", 
       "prompt_number": 132, 
       "text": [
        "<matplotlib.axes.AxesSubplot at 0x594d1b0>"
       ]
      }, 
      {
       "output_type": "display_data", 
       "png": "[encoded data removed]"
      }
     ], 
     "prompt_number": 132
    }, 
    {
     "cell_type": "code", 
     "collapsed": false, 
     "input": [
      "pwd"
     ], 
     "language": "python", 
     "outputs": [
      {
       "output_type": "pyout", 
       "prompt_number": 144, 
       "text": [
        "u'C:\\\\Users\\\\Suso'"
       ]
      }
     ], 
     "prompt_number": 144
    }, 
    {
     "cell_type": "code", 
     "collapsed": false, 
     "input": [
      "ls"
     ], 
     "language": "python", 
     "outputs": [
      {
       "output_type": "stream", 
       "stream": "stdout", 
       "text": [
        " Volume in drive C is Windows7_OS", 
        " Volume Serial Number is 46D8-2FED", 
        "", 
        " Directory of C:\\Users\\Suso", 
        "", 
        "03/30/2013  06:21 PM    <DIR>          .", 
        "03/30/2013  06:21 PM    <DIR>          ..", 
        "03/30/2013  01:35 PM    <DIR>          .designer", 
        "03/26/2013  09:30 PM    <DIR>          .eclipse", 
        "12/27/2010  07:51 PM    <DIR>          .idlerc", 
        "03/26/2013  10:57 PM    <DIR>          .ipython", 
        "03/30/2013  05:30 PM    <DIR>          .matplotlib", 
        "01/08/2013  08:08 PM    <DIR>          .oces2", 
        "07/14/2012  09:15 PM    <DIR>          Contacts", 
        "02/06/2013  08:12 AM            66,579 danid.log", 
        "03/28/2013  04:39 PM    <DIR>          Desktop", 
        "03/30/2013  02:03 PM    <DIR>          Documents", 
        "04/01/2013  07:54 PM    <DIR>          Downloads", 
        "03/29/2013  09:12 PM    <DIR>          Dropbox", 
        "03/27/2013  11:37 AM    <DIR>          Favorites", 
        "07/14/2012  09:15 PM    <DIR>          Links", 
        "07/14/2012  09:15 PM    <DIR>          Music", 
        "07/20/2012  03:40 PM    <DIR>          Pictures", 
        "04/01/2013  08:28 PM           306,502 playing_with_pandas.ipynb", 
        "09/04/2010  11:06 PM    <DIR>          Roaming", 
        "07/14/2012  09:15 PM    <DIR>          Saved Games", 
        "07/14/2012  09:15 PM    <DIR>          Searches", 
        "12/25/2011  09:38 PM    <DIR>          Tracing", 
        "03/28/2013  04:44 PM                86 Untitled0.ipynb", 
        "01/06/2013  07:45 PM    <DIR>          Videos", 
        "03/26/2013  09:31 PM    <DIR>          workspace", 
        "               3 File(s)        373,167 bytes", 
        "              23 Dir(s)  100,563,881,984 bytes free"
       ]
      }
     ], 
     "prompt_number": 146
    }, 
    {
     "cell_type": "code", 
     "collapsed": false, 
     "input": [
      "X = np.array([0,1,2,3,4])", 
      "Y = np.array([3,5,4,6,7])", 
      "pylab.scatter(X, Y)"
     ], 
     "language": "python", 
     "outputs": [
      {
       "output_type": "pyout", 
       "prompt_number": 148, 
       "text": [
        "<matplotlib.collections.PathCollection at 0x74e34f0>"
       ]
      }, 
      {
       "output_type": "display_data", 
       "png": "[encoded data removed]"
      }
     ], 
     "prompt_number": 148
    }, 
    {
     "cell_type": "code", 
     "collapsed": false, 
     "input": [
      "Xr = X - X.mean(); Yr = Y - Y.mean()", 
      "slope = (Xr*Yr).sum() / (Xr**2).sum()", 
      "intercept = Y.mean() - X.mean() * slope", 
      "(intercept, slope)"
     ], 
     "language": "python", 
     "outputs": [
      {
       "output_type": "pyout", 
       "prompt_number": 149, 
       "text": [
        "(3.2000000000000002, 0.90000000000000002)"
       ]
      }
     ], 
     "prompt_number": 149
    }, 
    {
     "cell_type": "code", 
     "collapsed": false, 
     "input": [
      "%pylab inline", 
      "%load_ext rmagic "
     ], 
     "language": "python", 
     "outputs": [
      {
       "output_type": "stream", 
       "stream": "stdout", 
       "text": [
        "", 
        "Welcome to pylab, a matplotlib-based Python environment [backend: module://IPython.zmq.pylab.backend_inline].", 
        "For more information, type 'help(pylab)'."
       ]
      }, 
      {
       "ename": "ImportError", 
       "evalue": "No module named rmagic", 
       "output_type": "pyerr", 
       "traceback": [
        "\u001b[1;31m---------------------------------------------------------------------------\u001b[0m\n\u001b[1;31mImportError\u001b[0m                               Traceback (most recent call last)", 
        "\u001b[1;32mC:\\Users\\Suso\\<ipython-input-1-02c94a7bc609>\u001b[0m in \u001b[0;36m<module>\u001b[1;34m()\u001b[0m\n\u001b[0;32m      1\u001b[0m \u001b[0mget_ipython\u001b[0m\u001b[1;33m(\u001b[0m\u001b[1;33m)\u001b[0m\u001b[1;33m.\u001b[0m\u001b[0mmagic\u001b[0m\u001b[1;33m(\u001b[0m\u001b[1;34mu'pylab inline'\u001b[0m\u001b[1;33m)\u001b[0m\u001b[1;33m\u001b[0m\u001b[0m\n\u001b[1;32m----> 2\u001b[1;33m \u001b[0mget_ipython\u001b[0m\u001b[1;33m(\u001b[0m\u001b[1;33m)\u001b[0m\u001b[1;33m.\u001b[0m\u001b[0mmagic\u001b[0m\u001b[1;33m(\u001b[0m\u001b[1;34mu'load_ext rmagic'\u001b[0m\u001b[1;33m)\u001b[0m\u001b[1;33m\u001b[0m\u001b[0m\n\u001b[0m", 
        "\u001b[1;32mC:\\Python27\\lib\\site-packages\\IPython\\core\\interactiveshell.pyc\u001b[0m in \u001b[0;36mmagic\u001b[1;34m(self, arg_s, next_input)\u001b[0m\n\u001b[0;32m   1983\u001b[0m                 \u001b[0mself\u001b[0m\u001b[1;33m.\u001b[0m\u001b[0m_magic_locals\u001b[0m \u001b[1;33m=\u001b[0m \u001b[0msys\u001b[0m\u001b[1;33m.\u001b[0m\u001b[0m_getframe\u001b[0m\u001b[1;33m(\u001b[0m\u001b[1;36m1\u001b[0m\u001b[1;33m)\u001b[0m\u001b[1;33m.\u001b[0m\u001b[0mf_locals\u001b[0m\u001b[1;33m\u001b[0m\u001b[0m\n\u001b[0;32m   1984\u001b[0m             \u001b[1;32mwith\u001b[0m \u001b[0mself\u001b[0m\u001b[1;33m.\u001b[0m\u001b[0mbuiltin_trap\u001b[0m\u001b[1;33m:\u001b[0m\u001b[1;33m\u001b[0m\u001b[0m\n\u001b[1;32m-> 1985\u001b[1;33m                 \u001b[0mresult\u001b[0m \u001b[1;33m=\u001b[0m \u001b[0mfn\u001b[0m\u001b[1;33m(\u001b[0m\u001b[0mmagic_args\u001b[0m\u001b[1;33m)\u001b[0m\u001b[1;33m\u001b[0m\u001b[0m\n\u001b[0m\u001b[0;32m   1986\u001b[0m             \u001b[1;31m# Ensure we're not keeping object references around:\u001b[0m\r\n\u001b[1;33m\u001b[0m\u001b[0m\n\u001b[0;32m   1987\u001b[0m             \u001b[0mself\u001b[0m\u001b[1;33m.\u001b[0m\u001b[0m_magic_locals\u001b[0m \u001b[1;33m=\u001b[0m \u001b[1;33m{\u001b[0m\u001b[1;33m}\u001b[0m\u001b[1;33m\u001b[0m\u001b[0m\n", 
        "\u001b[1;32mC:\\Python27\\lib\\site-packages\\IPython\\core\\magic.pyc\u001b[0m in \u001b[0;36mmagic_load_ext\u001b[1;34m(self, module_str)\u001b[0m\n\u001b[0;32m   3373\u001b[0m     \u001b[1;32mdef\u001b[0m \u001b[0mmagic_load_ext\u001b[0m\u001b[1;33m(\u001b[0m\u001b[0mself\u001b[0m\u001b[1;33m,\u001b[0m \u001b[0mmodule_str\u001b[0m\u001b[1;33m)\u001b[0m\u001b[1;33m:\u001b[0m\u001b[1;33m\u001b[0m\u001b[0m\n\u001b[0;32m   3374\u001b[0m         \u001b[1;34m\"\"\"Load an IPython extension by its module name.\"\"\"\u001b[0m\u001b[1;33m\u001b[0m\u001b[0m\n\u001b[1;32m-> 3375\u001b[1;33m         \u001b[1;32mreturn\u001b[0m \u001b[0mself\u001b[0m\u001b[1;33m.\u001b[0m\u001b[0mextension_manager\u001b[0m\u001b[1;33m.\u001b[0m\u001b[0mload_extension\u001b[0m\u001b[1;33m(\u001b[0m\u001b[0mmodule_str\u001b[0m\u001b[1;33m)\u001b[0m\u001b[1;33m\u001b[0m\u001b[0m\n\u001b[0m\u001b[0;32m   3376\u001b[0m \u001b[1;33m\u001b[0m\u001b[0m\n\u001b[0;32m   3377\u001b[0m     \u001b[1;32mdef\u001b[0m \u001b[0mmagic_unload_ext\u001b[0m\u001b[1;33m(\u001b[0m\u001b[0mself\u001b[0m\u001b[1;33m,\u001b[0m \u001b[0mmodule_str\u001b[0m\u001b[1;33m)\u001b[0m\u001b[1;33m:\u001b[0m\u001b[1;33m\u001b[0m\u001b[0m\n", 
        "\u001b[1;32mC:\\Python27\\lib\\site-packages\\IPython\\core\\extensions.pyc\u001b[0m in \u001b[0;36mload_extension\u001b[1;34m(self, module_str)\u001b[0m\n\u001b[0;32m     85\u001b[0m         \u001b[1;32mif\u001b[0m \u001b[0mmodule_str\u001b[0m \u001b[1;32mnot\u001b[0m \u001b[1;32min\u001b[0m \u001b[0msys\u001b[0m\u001b[1;33m.\u001b[0m\u001b[0mmodules\u001b[0m\u001b[1;33m:\u001b[0m\u001b[1;33m\u001b[0m\u001b[0m\n\u001b[0;32m     86\u001b[0m             \u001b[1;32mwith\u001b[0m \u001b[0mprepended_to_syspath\u001b[0m\u001b[1;33m(\u001b[0m\u001b[0mself\u001b[0m\u001b[1;33m.\u001b[0m\u001b[0mipython_extension_dir\u001b[0m\u001b[1;33m)\u001b[0m\u001b[1;33m:\u001b[0m\u001b[1;33m\u001b[0m\u001b[0m\n\u001b[1;32m---> 87\u001b[1;33m                 \u001b[0m__import__\u001b[0m\u001b[1;33m(\u001b[0m\u001b[0mmodule_str\u001b[0m\u001b[1;33m)\u001b[0m\u001b[1;33m\u001b[0m\u001b[0m\n\u001b[0m\u001b[0;32m     88\u001b[0m         \u001b[0mmod\u001b[0m \u001b[1;33m=\u001b[0m \u001b[0msys\u001b[0m\u001b[1;33m.\u001b[0m\u001b[0mmodules\u001b[0m\u001b[1;33m[\u001b[0m\u001b[0mmodule_str\u001b[0m\u001b[1;33m]\u001b[0m\u001b[1;33m\u001b[0m\u001b[0m\n\u001b[0;32m     89\u001b[0m         \u001b[1;32mreturn\u001b[0m \u001b[0mself\u001b[0m\u001b[1;33m.\u001b[0m\u001b[0m_call_load_ipython_extension\u001b[0m\u001b[1;33m(\u001b[0m\u001b[0mmod\u001b[0m\u001b[1;33m)\u001b[0m\u001b[1;33m\u001b[0m\u001b[0m\n", 
        "\u001b[1;31mImportError\u001b[0m: No module named rmagic"
       ]
      }
     ], 
     "prompt_number": 1
    }, 
    {
     "cell_type": "code", 
     "collapsed": false, 
     "input": [
      "import datetime", 
      "import numpy as np", 
      "import matplotlib.colors as colors", 
      "import matplotlib.finance as finance", 
      "import matplotlib.dates as mdates", 
      "import matplotlib.ticker as mticker", 
      "import matplotlib.mlab as mlab", 
      "import matplotlib.pyplot as plt", 
      "import matplotlib.font_manager as font_manager", 
      "", 
      "", 
      "startdate = datetime.date(2006,1,1)", 
      "today = enddate = datetime.date.today()", 
      "ticker = 'SPY'", 
      "", 
      "", 
      "fh = finance.fetch_historical_yahoo(ticker, startdate, enddate)", 
      "# a numpy record array with fields: date, open, high, low, close, volume, adj_close)", 
      "", 
      "r = mlab.csv2rec(fh); fh.close()", 
      "r.sort()", 
      "", 
      "", 
      "def moving_average(x, n, type='simple'):", 
      "    \"\"\"", 
      "    compute an n period moving average.", 
      "", 
      "    type is 'simple' | 'exponential'", 
      "", 
      "    \"\"\"", 
      "    x = np.asarray(x)", 
      "    if type=='simple':", 
      "        weights = np.ones(n)", 
      "    else:", 
      "        weights = np.exp(np.linspace(-1., 0., n))", 
      "", 
      "    weights /= weights.sum()", 
      "", 
      "", 
      "    a =  np.convolve(x, weights, mode='full')[:len(x)]", 
      "    a[:n] = a[n]", 
      "    return a", 
      "", 
      "def relative_strength(prices, n=14):", 
      "    \"\"\"", 
      "    compute the n period relative strength indicator", 
      "    http://stockcharts.com/school/doku.php?id=chart_school:glossary_r#relativestrengthindex", 
      "    http://www.investopedia.com/terms/r/rsi.asp", 
      "    \"\"\"", 
      "", 
      "    deltas = np.diff(prices)", 
      "    seed = deltas[:n+1]", 
      "    up = seed[seed>=0].sum()/n", 
      "    down = -seed[seed<0].sum()/n", 
      "    rs = up/down", 
      "    rsi = np.zeros_like(prices)", 
      "    rsi[:n] = 100. - 100./(1.+rs)", 
      "", 
      "    for i in range(n, len(prices)):", 
      "        delta = deltas[i-1] # cause the diff is 1 shorter", 
      "", 
      "        if delta>0:", 
      "            upval = delta", 
      "            downval = 0.", 
      "        else:", 
      "            upval = 0.", 
      "            downval = -delta", 
      "", 
      "        up = (up*(n-1) + upval)/n", 
      "        down = (down*(n-1) + downval)/n", 
      "", 
      "        rs = up/down", 
      "        rsi[i] = 100. - 100./(1.+rs)", 
      "", 
      "    return rsi", 
      "", 
      "def moving_average_convergence(x, nslow=26, nfast=12):", 
      "    \"\"\"", 
      "    compute the MACD (Moving Average Convergence/Divergence) using a fast and slow exponential moving avg'", 
      "    return value is emaslow, emafast, macd which are len(x) arrays", 
      "    \"\"\"", 
      "    emaslow = moving_average(x, nslow, type='exponential')", 
      "    emafast = moving_average(x, nfast, type='exponential')", 
      "    return emaslow, emafast, emafast - emaslow", 
      "", 
      "", 
      "plt.rc('axes', grid=True)", 
      "plt.rc('grid', color='0.75', linestyle='-', linewidth=0.5)", 
      "", 
      "textsize = 9", 
      "left, width = 0.1, 0.8", 
      "rect1 = [left, 0.7, width, 0.2]", 
      "rect2 = [left, 0.3, width, 0.4]", 
      "rect3 = [left, 0.1, width, 0.2]", 
      "", 
      "", 
      "fig = plt.figure(facecolor='white')", 
      "axescolor  = '#f6f6f6'  # the axes background color", 
      "", 
      "ax1 = fig.add_axes(rect1, axisbg=axescolor)  #left, bottom, width, height", 
      "ax2 = fig.add_axes(rect2, axisbg=axescolor, sharex=ax1)", 
      "ax2t = ax2.twinx()", 
      "ax3  = fig.add_axes(rect3, axisbg=axescolor, sharex=ax1)", 
      "", 
      "", 
      "", 
      "### plot the relative strength indicator", 
      "prices = r.adj_close", 
      "rsi = relative_strength(prices)", 
      "fillcolor = 'darkgoldenrod'", 
      "", 
      "ax1.plot(r.date, rsi, color=fillcolor)", 
      "ax1.axhline(70, color=fillcolor)", 
      "ax1.axhline(30, color=fillcolor)", 
      "ax1.fill_between(r.date, rsi, 70, where=(rsi>=70), facecolor=fillcolor, edgecolor=fillcolor)", 
      "ax1.fill_between(r.date, rsi, 30, where=(rsi<=30), facecolor=fillcolor, edgecolor=fillcolor)", 
      "ax1.text(0.6, 0.9, '>70 = overbought', va='top', transform=ax1.transAxes, fontsize=textsize)", 
      "ax1.text(0.6, 0.1, '<30 = oversold', transform=ax1.transAxes, fontsize=textsize)", 
      "ax1.set_ylim(0, 100)", 
      "ax1.set_yticks([30,70])", 
      "ax1.text(0.025, 0.95, 'RSI (14)', va='top', transform=ax1.transAxes, fontsize=textsize)", 
      "ax1.set_title('%s daily'%ticker)", 
      "", 
      "### plot the price and volume data", 
      "dx = r.adj_close - r.close", 
      "low = r.low + dx", 
      "high = r.high + dx", 
      "", 
      "deltas = np.zeros_like(prices)", 
      "deltas[1:] = np.diff(prices)", 
      "up = deltas>0", 
      "ax2.vlines(r.date[up], low[up], high[up], color='black', label='_nolegend_')", 
      "ax2.vlines(r.date[~up], low[~up], high[~up], color='black', label='_nolegend_')", 
      "ma20 = moving_average(prices, 20, type='simple')", 
      "ma200 = moving_average(prices, 200, type='simple')", 
      "", 
      "linema20, = ax2.plot(r.date, ma20, color='blue', lw=2, label='MA (20)')", 
      "linema200, = ax2.plot(r.date, ma200, color='red', lw=2, label='MA (200)')", 
      "", 
      "", 
      "last = r[-1]", 
      "s = '%s O:%1.2f H:%1.2f L:%1.2f C:%1.2f, V:%1.1fM Chg:%+1.2f' % (", 
      "    today.strftime('%d-%b-%Y'),", 
      "    last.open, last.high,", 
      "    last.low, last.close,", 
      "    last.volume*1e-6,", 
      "    last.close-last.open )", 
      "t4 = ax2.text(0.3, 0.9, s, transform=ax2.transAxes, fontsize=textsize)", 
      "", 
      "props = font_manager.FontProperties(size=10)", 
      "leg = ax2.legend(loc='center left', shadow=True, fancybox=True, prop=props)", 
      "leg.get_frame().set_alpha(0.5)", 
      "", 
      "", 
      "volume = (r.close*r.volume)/1e6  # dollar volume in millions", 
      "vmax = volume.max()", 
      "poly = ax2t.fill_between(r.date, volume, 0, label='Volume', facecolor=fillcolor, edgecolor=fillcolor)", 
      "ax2t.set_ylim(0, 5*vmax)", 
      "ax2t.set_yticks([])", 
      "", 
      "", 
      "### compute the MACD indicator", 
      "fillcolor = 'darkslategrey'", 
      "nslow = 26", 
      "nfast = 12", 
      "nema = 9", 
      "emaslow, emafast, macd = moving_average_convergence(prices, nslow=nslow, nfast=nfast)", 
      "ema9 = moving_average(macd, nema, type='exponential')", 
      "ax3.plot(r.date, macd, color='black', lw=2)", 
      "ax3.plot(r.date, ema9, color='blue', lw=1)", 
      "ax3.fill_between(r.date, macd-ema9, 0, alpha=0.5, facecolor=fillcolor, edgecolor=fillcolor)", 
      "", 
      "", 
      "ax3.text(0.025, 0.95, 'MACD (%d, %d, %d)'%(nfast, nslow, nema), va='top',", 
      "         transform=ax3.transAxes, fontsize=textsize)", 
      "", 
      "#ax3.set_yticks([])", 
      "# turn off upper axis tick labels, rotate the lower ones, etc", 
      "for ax in ax1, ax2, ax2t, ax3:", 
      "    if ax!=ax3:", 
      "        for label in ax.get_xticklabels():", 
      "            label.set_visible(False)", 
      "    else:", 
      "        for label in ax.get_xticklabels():", 
      "            label.set_rotation(30)", 
      "            label.set_horizontalalignment('right')", 
      "", 
      "    ax.fmt_xdata = mdates.DateFormatter('%Y-%m-%d')", 
      "", 
      "", 
      "", 
      "class MyLocator(mticker.MaxNLocator):", 
      "    def __init__(self, *args, **kwargs):", 
      "        mticker.MaxNLocator.__init__(self, *args, **kwargs)", 
      "", 
      "    def __call__(self, *args, **kwargs):", 
      "        return mticker.MaxNLocator.__call__(self, *args, **kwargs)", 
      "", 
      "# at most 5 ticks, pruning the upper and lower so they don't overlap", 
      "# with other ticks", 
      "#ax2.yaxis.set_major_locator(mticker.MaxNLocator(5, prune='both'))", 
      "#ax3.yaxis.set_major_locator(mticker.MaxNLocator(5, prune='both'))", 
      "", 
      "ax2.yaxis.set_major_locator(MyLocator(5, prune='both'))", 
      "ax3.yaxis.set_major_locator(MyLocator(5, prune='both'))", 
      "", 
      "plt.show()"
     ], 
     "language": "python", 
     "outputs": [
      {
       "output_type": "display_data", 
       "png": "[encoded data removed]"
      }
     ], 
     "prompt_number": 2
    }, 
    {
     "cell_type": "code", 
     "collapsed": false, 
     "input": [
      "whos"
     ], 
     "language": "python", 
     "outputs": [
      {
       "output_type": "stream", 
       "stream": "stdout", 
       "text": [
        "Variable                     Type              Data/Info", 
        "--------------------------------------------------------", 
        "MyLocator                    classobj          __main__.MyLocator", 
        "ax                           Axes              Axes(0.1,0.1;0.8x0.2)", 
        "ax1                          Axes              Axes(0.1,0.7;0.8x0.2)", 
        "ax2                          Axes              Axes(0.1,0.3;0.8x0.4)", 
        "ax2t                         Axes              Axes(0.1,0.3;0.8x0.4)", 
        "ax3                          Axes              Axes(0.1,0.1;0.8x0.2)", 
        "axescolor                    str               #f6f6f6", 
        "deltas                       ndarray           1822: 1822 elems, type `float64`, 14576 bytes", 
        "dx                           ndarray           1822: 1822 elems, type `float64`, 14576 bytes", 
        "ema9                         ndarray           1822: 1822 elems, type `float64`, 14576 bytes", 
        "emafast                      ndarray           1822: 1822 elems, type `float64`, 14576 bytes", 
        "emaslow                      ndarray           1822: 1822 elems, type `float64`, 14576 bytes", 
        "enddate                      date              2013-04-02", 
        "fh                           file              <closed file 'C:\\Users\\Su<...>, mode 'r' at 0x0496CF98>", 
        "fig                          Figure            Figure(480x320)", 
        "fillcolor                    str               darkslategrey", 
        "finance                      module            <module 'matplotlib.finan<...>\\matplotlib\\finance.pyc'>", 
        "font_manager                 module            <module 'matplotlib.font_<...>lotlib\\font_manager.pyc'>", 
        "high                         ndarray           1822: 1822 elems, type `float64`, 14576 bytes", 
        "label                        Text              Text(734869,0,u'2013')", 
        "last                         record            (datetime.date(2013, 4, 1<...>156.05, 99168600, 156.05)", 
        "left                         float             0.1", 
        "leg                          Legend            Legend", 
        "linema20                     Line2D            Line2D(MA (20))", 
        "linema200                    Line2D            Line2D(MA (200))", 
        "low                          ndarray           1822: 1822 elems, type `float64`, 14576 bytes", 
        "ma20                         ndarray           1822: 1822 elems, type `float64`, 14576 bytes", 
        "ma200                        ndarray           1822: 1822 elems, type `float64`, 14576 bytes", 
        "macd                         ndarray           1822: 1822 elems, type `float64`, 14576 bytes", 
        "mdates                       module            <module 'matplotlib.dates<...>es\\matplotlib\\dates.pyc'>", 
        "moving_average               function          <function moving_average at 0x047F8B70>", 
        "moving_average_convergence   function          <function moving_average_<...>onvergence at 0x04891070>", 
        "mticker                      module            <module 'matplotlib.ticke<...>s\\matplotlib\\ticker.pyc'>", 
        "nema                         int               9", 
        "nfast                        int               12", 
        "nslow                        int               26", 
        "prices                       ndarray           1822: 1822 elems, type `float64`, 14576 bytes", 
        "props                        FontProperties    :family=sans-serif:style=<...>:stretch=normal:size=10.0", 
        "r                            recarray          [ (datetime.date(2006, 1,<...>56.05, 99168600, 156.05)]", 
        "rect1                        list              n=4", 
        "rect2                        list              n=4", 
        "rect3                        list              n=4", 
        "relative_strength            function          <function relative_strength at 0x048B9770>", 
        "rsi                          ndarray           1822: 1822 elems, type `float64`, 14576 bytes", 
        "s                            str               02-Apr-2013 O:156.59 H:15<...>156.05, V:99.2M Chg:-0.54", 
        "startdate                    date              2006-01-01", 
        "t4                           Text              Text(0.3,0.9,'02-Apr-2013<...>6.05, V:99.2M Chg:-0.54')", 
        "textsize                     int               9", 
        "ticker                       str               SPY", 
        "today                        date              2013-04-02", 
        "up                           ndarray           1822: 1822 elems, type `bool`, 1822 bytes", 
        "vmax                         float64           93188.092029", 
        "volume                       ndarray           1822: 1822 elems, type `float64`, 14576 bytes", 
        "width                        float             0.8"
       ]
      }
     ], 
     "prompt_number": 3
    }, 
    {
     "cell_type": "code", 
     "collapsed": false, 
     "input": [
      "cd C:\\Python27\\Lib\\PyAlgotrade\\PyAlgoTrade-0.11"
     ], 
     "language": "python", 
     "outputs": [
      {
       "output_type": "stream", 
       "stream": "stdout", 
       "text": [
        "C:\\Python27\\Lib\\PyAlgotrade\\PyAlgoTrade-0.11"
       ]
      }
     ], 
     "prompt_number": 4
    }, 
    {
     "cell_type": "code", 
     "collapsed": false, 
     "input": [
      "ls"
     ], 
     "language": "python", 
     "outputs": [
      {
       "output_type": "stream", 
       "stream": "stdout", 
       "text": [
        " Volume in drive C is Windows7_OS", 
        " Volume Serial Number is 46D8-2FED", 
        "", 
        " Directory of C:\\Python27\\Lib\\PyAlgotrade\\PyAlgoTrade-0.11", 
        "", 
        "04/02/2013  03:10 PM    <DIR>          .", 
        "04/02/2013  03:10 PM    <DIR>          ..", 
        "04/02/2013  03:10 PM    <DIR>          googleappengine", 
        "03/17/2013  05:26 AM               421 PKG-INFO", 
        "04/02/2013  03:10 PM    <DIR>          pyalgotrade", 
        "03/28/2012  03:34 AM                 0 README", 
        "03/17/2013  04:57 AM             1,329 setup.py", 
        "               3 File(s)          1,750 bytes", 
        "               4 Dir(s)  99,858,501,632 bytes free"
       ]
      }
     ], 
     "prompt_number": 5
    }, 
    {
     "cell_type": "code", 
     "collapsed": true, 
     "input": [
      "from pyalgotrade import strategy", 
      "from pyalgotrade.barfeed import yahoofeed", 
      "from pyalgotrade import plotter", 
      "from pyalgotrade.tools import yahoofinance", 
      "from pyalgotrade.technical import vwap"
     ], 
     "language": "python", 
     "outputs": [], 
     "prompt_number": 9
    }, 
    {
     "cell_type": "code", 
     "collapsed": false, 
     "input": [
      "", 
      "import os", 
      "", 
      "class MyStrategy(strategy.Strategy):", 
      "\tdef __init__(self, feed, instrument, vwapWindowSize):", 
      "\t\tstrategy.Strategy.__init__(self, feed)", 
      "\t\tself.__instrument = instrument", 
      "\t\tself.__vwap = vwap.VWAP(feed[instrument], vwapWindowSize)", 
      "", 
      "\tdef getVWAPDS(self):", 
      "\t\treturn self.__vwap", 
      "", 
      "\tdef onBars(self, bars):", 
      "\t\tvwap = self.__vwap[-1]", 
      "\t\tif vwap == None:", 
      "\t\t\treturn", 
      "", 
      "\t\tshares = self.getBroker().getShares(self.__instrument)", 
      "\t\tprice = bars[self.__instrument].getClose()", 
      "\t\tnotional = shares * price", 
      "\t\tif price < vwap * 0.995 and notional > 0:", 
      "\t\t\tself.order(self.__instrument, -100)", 
      "\t\telif price > vwap * 1.005 and notional < 1000000:", 
      "\t\t\tself.order(self.__instrument, 100) ", 
      "", 
      "def build_feed(instruments, fromYear, toYear):", 
      "\tfeed = yahoofeed.Feed()", 
      "", 
      "\tfor year in range(fromYear, toYear+1):", 
      "\t\tfor symbol in instruments:", 
      "\t\t\tfileName = \"%s-%d-yahoofinance.csv\" % (symbol, year)", 
      "\t\t\tif not os.path.exists(fileName):", 
      "\t\t\t\tprint \"Downloading %s %d\" % (symbol, year)", 
      "\t\t\t\tcsv = yahoofinance.get_daily_csv(symbol, year)", 
      "\t\t\t\tf = open(fileName, \"w\")", 
      "\t\t\t\tf.write(csv)", 
      "\t\t\t\tf.close()", 
      "\t\t\tfeed.addBarsFromCSV(symbol, fileName)", 
      "\treturn feed", 
      "", 
      "def main(plot):", 
      "\tinstrument = \"aapl\"", 
      "\tvwapWindowSize = 5", 
      "", 
      "\t# Download the bars.", 
      "\tfeed = build_feed([instrument], 2011, 2012)", 
      "", 
      "\tmyStrategy = MyStrategy(feed, instrument, vwapWindowSize)", 
      "", 
      "\tif plot:", 
      "\t\tplt = plotter.StrategyPlotter(myStrategy, True, False, True)", 
      "\t\tplt.getInstrumentSubplot(instrument).addDataSeries(\"vwap\", myStrategy.getVWAPDS())", 
      "", 
      "\tmyStrategy.run()", 
      "\tprint \"Result: %.2f\" % myStrategy.getResult()", 
      "", 
      "\tif plot:", 
      "\t\tplt.plot()", 
      "", 
      "if __name__ == \"__main__\":", 
      "\tmain(True)"
     ], 
     "language": "python", 
     "outputs": [
      {
       "output_type": "stream", 
       "stream": "stdout", 
       "text": [
        "Downloading aapl 2011", 
        "Downloading aapl 2012"
       ]
      }, 
      {
       "output_type": "stream", 
       "stream": "stdout", 
       "text": [
        "", 
        "Result: 1436098.00"
       ]
      }, 
      {
       "output_type": "stream", 
       "stream": "stdout", 
       "text": [
        ""
       ]
      }, 
      {
       "output_type": "display_data", 
       "png": "[encoded data removed]"
      }
     ], 
     "prompt_number": 10
    }, 
    {
     "cell_type": "code", 
     "collapsed": true, 
     "input": [], 
     "language": "python", 
     "outputs": []
    }
   ]
  }
 ]
}